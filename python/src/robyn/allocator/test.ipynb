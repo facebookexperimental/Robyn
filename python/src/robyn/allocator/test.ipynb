{
 "cells": [
  {
   "cell_type": "code",
   "execution_count": 1,
   "metadata": {},
   "outputs": [
    {
     "name": "stdout",
     "output_type": "stream",
     "text": [
      "\n",
      "Optimization Results:\n",
      "Solution: [100. 200. 300.]\n",
      "Objective: -600.0\n",
      "Status: 3\n",
      "Total spend: 600.0\n"
     ]
    }
   ],
   "source": [
    "import nlopt\n",
    "import numpy as np\n",
    "\n",
    "# Test data\n",
    "x0 = np.array([100.0, 200.0, 300.0])\n",
    "lb = np.array([50.0, 100.0, 150.0])\n",
    "ub = np.array([200.0, 400.0, 600.0])\n",
    "eval_dict = {\"total_budget_unit\": 600.0}\n",
    "\n",
    "\n",
    "def test_eval_f(x, grad):\n",
    "    if grad.size > 0:\n",
    "        grad[:] = -np.ones_like(x)  # Gradient for maximization\n",
    "    return {\"objective\": -np.sum(x), \"gradient\": -np.ones_like(x)}[\"objective\"]\n",
    "\n",
    "\n",
    "def test_eval_g_eq(x, grad):\n",
    "    if grad.size > 0:\n",
    "        grad[:] = np.ones_like(x)\n",
    "    return {\n",
    "        \"constraints\": np.sum(x) - eval_dict[\"total_budget_unit\"],\n",
    "        \"jacobian\": np.ones_like(x),\n",
    "    }[\"constraints\"]\n",
    "\n",
    "\n",
    "# Create optimizer\n",
    "opt = nlopt.opt(nlopt.LD_AUGLAG, len(x0))\n",
    "\n",
    "# Set local optimizer\n",
    "local_optimizer = nlopt.opt(nlopt.LD_SLSQP, len(x0))\n",
    "local_optimizer.set_xtol_rel(1.0e-10)\n",
    "opt.set_local_optimizer(local_optimizer)\n",
    "\n",
    "# Set objective and constraints\n",
    "opt.set_min_objective(test_eval_f)\n",
    "opt.add_equality_constraint(test_eval_g_eq)\n",
    "\n",
    "# Set bounds and options\n",
    "opt.set_lower_bounds(lb)\n",
    "opt.set_upper_bounds(ub)\n",
    "opt.set_maxeval(1000)\n",
    "opt.set_xtol_rel(1.0e-10)\n",
    "\n",
    "# Run optimization\n",
    "try:\n",
    "    x = opt.optimize(x0)\n",
    "    result = {\n",
    "        \"solution\": x,\n",
    "        \"objective\": opt.last_optimum_value(),\n",
    "        \"status\": opt.last_optimize_result(),\n",
    "    }\n",
    "    print(\"\\nOptimization Results:\")\n",
    "    print(f\"Solution: {result['solution']}\")\n",
    "    print(f\"Objective: {result['objective']}\")\n",
    "    print(f\"Status: {result['status']}\")\n",
    "    print(f\"Total spend: {np.sum(result['solution'])}\")\n",
    "except Exception as e:\n",
    "    print(f\"Optimization failed: {str(e)}\")"
   ]
  }
 ],
 "metadata": {
  "kernelspec": {
   "display_name": ".pyvenv",
   "language": "python",
   "name": "python3"
  },
  "language_info": {
   "codemirror_mode": {
    "name": "ipython",
    "version": 3
   },
   "file_extension": ".py",
   "mimetype": "text/x-python",
   "name": "python",
   "nbconvert_exporter": "python",
   "pygments_lexer": "ipython3",
   "version": "3.12.4"
  }
 },
 "nbformat": 4,
 "nbformat_minor": 2
}
