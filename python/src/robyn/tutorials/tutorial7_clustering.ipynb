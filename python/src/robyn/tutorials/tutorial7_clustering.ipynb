{
 "cells": [
  {
   "cell_type": "code",
   "execution_count": null,
   "metadata": {},
   "outputs": [],
   "source": [
    "from robyn.modeling.clustering.clustering_config import ClusteringConfig, ClusterBy\n",
    "from robyn.modeling.clustering.cluster_builder import ClusterBuilder\n",
    "from robyn.modeling.entities.pareto_result import ParetoResult\n",
    "from robyn.data.entities.holidays_data import HolidaysData\n",
    "from robyn.data.entities.enums import DependentVarType\n",
    "import logging\n",
    "# Set the log level to DEBUG\n",
    "import os\n",
    "import logging\n",
    "log_level = os.environ.get('LOG_LEVEL', 'INFO')\n",
    "logging.basicConfig(level=getattr(logging, log_level.upper()))\n"
   ]
  },
  {
   "cell_type": "code",
   "execution_count": 2,
   "metadata": {},
   "outputs": [],
   "source": [
    "\n",
    "import pickle\n",
    "\n",
    "# load the variable from the file\n",
    "with open(\"pareto_result.pkl\", \"rb\") as f:\n",
    "    pareto_result: ParetoResult = pickle.load(f)\n",
    "with open(\"mmmdata.pkl\", \"rb\") as f:\n",
    "    mmm_data = pickle.load(f)\n",
    "with open(\"holidays_data.pkl\", \"rb\") as f:\n",
    "    holidays_data:HolidaysData = pickle.load(f)\n"
   ]
  },
  {
   "cell_type": "code",
   "execution_count": null,
   "metadata": {},
   "outputs": [],
   "source": [
    "cluster_builder = ClusterBuilder(pareto_result=pareto_result)"
   ]
  },
  {
   "cell_type": "code",
   "execution_count": null,
   "metadata": {},
   "outputs": [],
   "source": [
    "configs = ClusteringConfig(\n",
    "    dep_var_type= DependentVarType(mmm_data.mmmdata_spec.dep_var_type),\n",
    "    cluster_by = ClusterBy.HYPERPARAMETERS,\n",
    "    max_clusters = 10,\n",
    "    min_clusters = 3,\n",
    "    weights=[1.0, 1.0, 1.0]\n",
    ")\n",
    "cluster_results  = cluster_builder.cluster_models(configs)"
   ]
  },
  {
   "cell_type": "code",
   "execution_count": null,
   "metadata": {},
   "outputs": [],
   "source": [
    "cluster_results.wss"
   ]
  },
  {
   "cell_type": "code",
   "execution_count": null,
   "metadata": {},
   "outputs": [],
   "source": [
    "cluster_results.plots.top_solutions_errors_plot"
   ]
  },
  {
   "cell_type": "code",
   "execution_count": null,
   "metadata": {},
   "outputs": [],
   "source": [
    "cluster_results.plots.top_solutions_rois_plot"
   ]
  },
  {
   "cell_type": "code",
   "execution_count": null,
   "metadata": {},
   "outputs": [],
   "source": [
    "cluster_results.cluster_ci.clusters_confidence_interval_plot"
   ]
  },
  {
   "cell_type": "code",
   "execution_count": null,
   "metadata": {},
   "outputs": [],
   "source": [
    "print(\"clusters: \", cluster_results.n_clusters,\n",
    "\"\\nerror weights/balance: \", cluster_results.errors_weights,\n",
    "\"\\nboot_n: \", cluster_results.cluster_ci.boot_n,\n",
    "\"\\nsim_n: \", cluster_results.cluster_ci.sim_n)\n"
   ]
  },
  {
   "cell_type": "code",
   "execution_count": null,
   "metadata": {},
   "outputs": [],
   "source": [
    "print(cluster_results.cluster_ci.cluster_confidence_interval_df)"
   ]
  },
  {
   "cell_type": "code",
   "execution_count": null,
   "metadata": {},
   "outputs": [],
   "source": [
    "cluster_results.top_solutions['sol_id']"
   ]
  },
  {
   "cell_type": "code",
   "execution_count": 12,
   "metadata": {},
   "outputs": [],
   "source": [
    "from robyn.modeling.pareto.pareto_utils import ParetoUtils\n",
    "\n",
    "utils = ParetoUtils()\n",
    "new_pareto_results = utils.process_pareto_clustered_results(pareto_result, clustered_result=cluster_results, ran_cluster=False, ran_calibration= False)"
   ]
  },
  {
   "cell_type": "code",
   "execution_count": null,
   "metadata": {},
   "outputs": [],
   "source": [
    "from robyn.data.entities.enums import AdstockType   \n",
    "from robyn.reporting.onepager_reporting import OnePager\n",
    "\n",
    "visualizer = OnePager(pareto_result=new_pareto_results, clustered_result=cluster_results, adstock=AdstockType.GEOMETRIC, mmm_data=mmm_data, holidays_data=holidays_data)\n",
    "visualizer.generate_one_pager(top_pareto=True)"
   ]
  }
 ],
 "metadata": {
  "kernelspec": {
   "display_name": ".venv",
   "language": "python",
   "name": "python3"
  },
  "language_info": {
   "codemirror_mode": {
    "name": "ipython",
    "version": 3
   },
   "file_extension": ".py",
   "mimetype": "text/x-python",
   "name": "python",
   "nbconvert_exporter": "python",
   "pygments_lexer": "ipython3",
   "version": "3.11.5"
  }
 },
 "nbformat": 4,
 "nbformat_minor": 2
}
