{
 "cells": [
  {
   "cell_type": "markdown",
   "id": "53f2f84a",
   "metadata": {},
   "source": [
    "# Robyn: Marketing Mix Modeling Application\n",
    "\n",
    "This notebook demonstrates the usage of Robyn, a Marketing Mix Modeling (MMM) application. We'll go through the main steps of initializing the model, running it, and performing budget allocation.\n"
   ]
  },
  {
   "cell_type": "markdown",
   "id": "6fd474b7",
   "metadata": {},
   "source": [
    "\n",
    "## 1. Import Required Libraries and Create Synthetic Data\n",
    "\n",
    "First, let's import the necessary libraries and create some synthetic data for our demonstration."
   ]
  },
  {
   "cell_type": "code",
   "execution_count": null,
   "id": "eb8146e8",
   "metadata": {},
   "outputs": [],
   "source": [
    "import sys\n",
    "\n",
    "sys.path.append(\"/Users/yijuilee/robynpy_release_reviews/Robyn/python/src\")\n",
    "\n",
    "import pandas as pd\n",
    "import numpy as np\n",
    "from robyn.robyn import Robyn\n",
    "from robyn.data.entities.mmmdata import MMMData\n",
    "from robyn.data.entities.holidays_data import HolidaysData\n",
    "from robyn.data.entities.hyperparameters import Hyperparameters, ChannelHyperparameters\n",
    "from robyn.data.entities.calibration_input import (\n",
    "    CalibrationInput,\n",
    "    ChannelCalibrationData,\n",
    ")\n",
    "from robyn.data.entities.enums import AdstockType, DependentVarType, CalibrationScope"
   ]
  },
  {
   "cell_type": "markdown",
   "id": "442024b2",
   "metadata": {},
   "source": [
    "## 2.1 Load simulated data.\n",
    "\n",
    "You need to replace this with real data."
   ]
  },
  {
   "cell_type": "code",
   "execution_count": null,
   "id": "6f14728b",
   "metadata": {},
   "outputs": [],
   "source": [
    "# Read the simulated data and holidays data\n",
    "dt_simulated_weekly = pd.read_csv(\"resources/dt_simulated_weekly.csv\")\n",
    "\n",
    "print(\"Simulated Data...\")\n",
    "dt_simulated_weekly.head()"
   ]
  },
  {
   "cell_type": "code",
   "execution_count": null,
   "id": "182efb73",
   "metadata": {},
   "outputs": [],
   "source": [
    "dt_prophet_holidays = pd.read_csv(\"resources/dt_prophet_holidays.csv\")\n",
    "\n",
    "print(\"Holidays Data...\")\n",
    "dt_prophet_holidays.head()"
   ]
  },
  {
   "cell_type": "markdown",
   "id": "eefbc5da",
   "metadata": {},
   "source": [
    "## 2.2. Initialize Robyn\n",
    "\n",
    "Now, let's initialize Robyn with our synthetic data and configuration."
   ]
  },
  {
   "cell_type": "code",
   "execution_count": null,
   "id": "3a272787",
   "metadata": {},
   "outputs": [],
   "source": [
    "# Initialize Robyn\n",
    "robyn = Robyn(working_dir=\"output\")\n",
    "\n",
    "# Create MMMData\n",
    "mmm_data_spec = MMMData.MMMDataSpec(\n",
    "    dep_var=\"revenue\",\n",
    "    dep_var_type=\"revenue\",\n",
    "    date_var=\"DATE\",\n",
    "    context_vars=[\"competitor_sales_B\", \"events\"],\n",
    "    paid_media_spends=[\"tv_S\", \"ooh_S\", \"print_S\", \"facebook_S\", \"search_S\"],\n",
    "    paid_media_vars=[\"tv_S\", \"ooh_S\", \"print_S\", \"facebook_I\", \"search_clicks_P\"],\n",
    "    organic_vars=[\"newsletter\"],\n",
    "    window_start=\"2016-01-01\",\n",
    "    window_end=\"2018-12-31\",\n",
    ")\n",
    "\n",
    "mmm_data = MMMData(data=dt_simulated_weekly, mmmdata_spec=mmm_data_spec)\n",
    "\n",
    "# Create HolidaysData (using dummy data for demonstration)\n",
    "holidays_data = HolidaysData(\n",
    "    dt_holidays=dt_prophet_holidays,\n",
    "    prophet_vars=[\"trend\", \"season\", \"holiday\"],\n",
    "    prophet_country=\"DE\",\n",
    "    prophet_signs=[\"default\", \"default\", \"default\"],\n",
    ")\n",
    "\n",
    "# Create Hyperparameters\n",
    "hyperparameters = Hyperparameters(\n",
    "    hyperparameters={\n",
    "        \"facebook_S\": ChannelHyperparameters(\n",
    "            alphas=[0.5, 3],\n",
    "            gammas=[0.3, 1],\n",
    "            thetas=[0, 0.3],\n",
    "        ),\n",
    "        \"print_S\": ChannelHyperparameters(\n",
    "            alphas=[0.5, 3],\n",
    "            gammas=[0.3, 1],\n",
    "            thetas=[0.1, 0.4],\n",
    "        ),\n",
    "        \"tv_S\": ChannelHyperparameters(\n",
    "            alphas=[0.5, 3],\n",
    "            gammas=[0.3, 1],\n",
    "            thetas=[0.3, 0.8],\n",
    "        ),\n",
    "        \"search_S\": ChannelHyperparameters(\n",
    "            alphas=[0.5, 3],\n",
    "            gammas=[0.3, 1],\n",
    "            thetas=[0, 0.3],\n",
    "        ),\n",
    "        \"ooh_S\": ChannelHyperparameters(\n",
    "            alphas=[0.5, 3],\n",
    "            gammas=[0.3, 1],\n",
    "            thetas=[0.1, 0.4],\n",
    "        ),\n",
    "        \"newsletter\": ChannelHyperparameters(\n",
    "            alphas=[0.5, 3],\n",
    "            gammas=[0.3, 1],\n",
    "            thetas=[0.1, 0.4],\n",
    "        ),\n",
    "    },\n",
    "    adstock=AdstockType.GEOMETRIC,\n",
    "    lambda_=[0, 1],\n",
    "    train_size=[0.5, 0.8],\n",
    ")\n",
    "\n",
    "\n",
    "## Calibration is not supported yet\n",
    "# Create CalibrationInput (using dummy data for demonstration)\n",
    "# calibration_input = CalibrationInput({\n",
    "#     \"tv_spend\": ChannelCalibrationData(\n",
    "#         lift_start_date=pd.Timestamp(\"2022-03-01\"),\n",
    "#         lift_end_date=pd.Timestamp(\"2022-03-15\"),\n",
    "#         lift_abs=10000,\n",
    "#         spend=50000,\n",
    "#         confidence=0.9,\n",
    "#         metric=\"revenue\",\n",
    "#         calibration_scope=CalibrationScope.IMMEDIATE\n",
    "#     )\n",
    "# })\n",
    "\n",
    "# Initialize Robyn\n",
    "robyn.initialize(\n",
    "    mmm_data=mmm_data,\n",
    "    holidays_data=holidays_data,\n",
    "    hyperparameters=hyperparameters,\n",
    ")\n",
    "\n",
    "print(\"Robyn initialized successfully!\")"
   ]
  },
  {
   "cell_type": "markdown",
   "id": "9c8bb82e",
   "metadata": {},
   "source": [
    "## Feature Engineering"
   ]
  },
  {
   "cell_type": "code",
   "execution_count": null,
   "id": "72917fc5",
   "metadata": {},
   "outputs": [],
   "source": [
    "%matplotlib inline\n",
    "robyn.feature_engineering()"
   ]
  },
  {
   "cell_type": "markdown",
   "id": "d836832f",
   "metadata": {},
   "source": [
    "## 3. Run Robyn Model\n",
    "\n",
    "After initialization, we can run the Robyn model."
   ]
  },
  {
   "cell_type": "code",
   "execution_count": null,
   "id": "08cc2ddb",
   "metadata": {},
   "outputs": [],
   "source": [
    "%matplotlib inline\n",
    "from robyn.modeling.entities.enums import Models, NevergradAlgorithm\n",
    "from robyn.modeling.entities.modelrun_trials_config import TrialsConfig\n",
    "\n",
    "\n",
    "trials_config = TrialsConfig(iterations=2000, trials=5)\n",
    "\n",
    "# Run the model\n",
    "robyn.train_models(trials_config=trials_config,\n",
    "                    ts_validation=True,  # changed from True to False -> deacitvate\n",
    "                    add_penalty_factor=False,\n",
    "                    rssd_zero_penalty=True,\n",
    "                    cores=8,\n",
    "                    nevergrad_algo=NevergradAlgorithm.TWO_POINTS_DE,\n",
    "                    model_name=Models.RIDGE,\n",
    "                )"
   ]
  },
  {
   "cell_type": "markdown",
   "id": "69d510f2",
   "metadata": {},
   "source": [
    "## Evaluate Models"
   ]
  },
  {
   "cell_type": "code",
   "execution_count": null,
   "id": "c6d397f9",
   "metadata": {},
   "outputs": [],
   "source": [
    "%matplotlib inline\n",
    "from robyn.modeling.clustering.clustering_config import ClusterBy, ClusteringConfig\n",
    "\n",
    "configs = ClusteringConfig(\n",
    "    dep_var_type= DependentVarType(mmm_data.mmmdata_spec.dep_var_type),\n",
    "    cluster_by = ClusterBy.HYPERPARAMETERS,\n",
    "    max_clusters = 10,\n",
    "    min_clusters = 3,\n",
    "    weights=[1.0, 1.0, 1.0]\n",
    ")\n",
    "robyn.evaluate_models(cluster_config=configs)"
   ]
  },
  {
   "cell_type": "markdown",
   "id": "7cebb194",
   "metadata": {},
   "source": [
    "## Robyn One Pager Report"
   ]
  },
  {
   "cell_type": "code",
   "execution_count": null,
   "id": "a0f68f80",
   "metadata": {},
   "outputs": [],
   "source": [
    "robyn.generate_one_pager()"
   ]
  },
  {
   "cell_type": "code",
   "execution_count": null,
   "id": "9ed54130",
   "metadata": {},
   "outputs": [],
   "source": [
    "# robyn.generate_one_pager(solution_id=\"1_1994_1\")"
   ]
  },
  {
   "cell_type": "markdown",
   "id": "8ede6c0d",
   "metadata": {},
   "source": [
    "## 4. Budget Allocation\n",
    "\n",
    "Finally, let's perform budget allocation using the trained model."
   ]
  },
  {
   "cell_type": "markdown",
   "id": "e87e98ff",
   "metadata": {},
   "source": [
    "This notebook demonstrates the basic workflow of using Robyn for Marketing Mix Modeling. In a real-world scenario, you would need to replace the synthetic data with your actual marketing data and adjust the parameters accordingly.\n",
    "\n",
    "Remember to explore the full capabilities of Robyn, including model evaluation, visualization, and interpretation of results, which are beyond the scope of this basic demonstration."
   ]
  },
  {
   "cell_type": "code",
   "execution_count": null,
   "id": "2859a6cb",
   "metadata": {},
   "outputs": [],
   "source": [
    "%matplotlib inline\n",
    "from robyn.allocator.entities.allocation_params import AllocatorParams\n",
    "from robyn.allocator.entities.allocation_result import (\n",
    "    AllocationResult,\n",
    "    OptimOutData,\n",
    "    MainPoints,\n",
    ")\n",
    "from robyn.allocator.entities.optimization_result import OptimizationResult\n",
    "from robyn.allocator.entities.constraints import Constraints\n",
    "from robyn.allocator.optimizer import BudgetAllocator\n",
    "from robyn.allocator.constants import (\n",
    "    SCENARIO_MAX_RESPONSE,\n",
    "    ALGO_SLSQP_AUGLAG,\n",
    "    CONSTRAINT_MODE_EQ,\n",
    "    DEFAULT_CONSTRAINT_MULTIPLIER,\n",
    "    DATE_RANGE_ALL,\n",
    ")\n",
    "%load_ext autoreload\n",
    "%autoreload 2\n",
    "\n",
    "# Create allocator parameters matching R Example 1\n",
    "allocator_params = AllocatorParams(\n",
    "    scenario=SCENARIO_MAX_RESPONSE,\n",
    "    total_budget=None,  # When None, uses total spend in date_range\n",
    "    target_value=None,\n",
    "    date_range=\"all\",\n",
    "    channel_constr_low=[0.7],  # Single value for all channels\n",
    "    channel_constr_up=[1.2, 1.5, 1.5, 1.5, 1.5],  # Different values per channel\n",
    "    channel_constr_multiplier=3.0,\n",
    "    optim_algo=\"SLSQP_AUGLAG\",\n",
    "    maxeval=100000,\n",
    "    constr_mode=CONSTRAINT_MODE_EQ,\n",
    "    plots=True,\n",
    ")\n",
    "\n",
    "# Call the budget_allocator method\n",
    "allocation_result = robyn.optimize_budget(\n",
    "    allocator_params=allocator_params,\n",
    "    select_model=None,\n",
    ")\n",
    "# Display the allocation result\n",
    "print(allocation_result)"
   ]
  }
 ],
 "metadata": {
  "kernelspec": {
   "display_name": ".venv",
   "language": "python",
   "name": "python3"
  },
  "language_info": {
   "codemirror_mode": {
    "name": "ipython",
    "version": 3
   },
   "file_extension": ".py",
   "mimetype": "text/x-python",
   "name": "python",
   "nbconvert_exporter": "python",
   "pygments_lexer": "ipython3",
   "version": "3.10.15"
  }
 },
 "nbformat": 4,
 "nbformat_minor": 5
}
