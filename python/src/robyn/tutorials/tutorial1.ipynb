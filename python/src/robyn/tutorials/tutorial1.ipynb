{
 "cells": [
  {
   "cell_type": "markdown",
   "id": "53f2f84a",
   "metadata": {},
   "source": [
    "# Robyn: Marketing Mix Modeling in Python\n",
    "\n",
    "Welcome to Robyn, a powerful Marketing Mix Modeling (MMM) tool developed by Meta. This notebook demonstrates how to use Robyn to build and analyze marketing mix models.\n",
    "\n",
    "This notebook demonstrates the basic workflow of using Robyn for Marketing Mix Modeling. For your own analysis:\n",
    "\n",
    "1. Replace the sample data with your marketing data\n",
    "2. Adjust the model parameters based on your business context\n",
    "3. Validate results against your business knowledge \n",
    "4. Use the optimization insights to guide marketing budget allocation\n",
    "\n",
    "For more information, visit the [Robyn documentation](https://github.com/facebookexperimental/Robyn)."
   ]
  },
  {
   "cell_type": "markdown",
   "id": "4041ca28",
   "metadata": {},
   "source": [
    "## Installation\n",
    "\n",
    "Install Robyn using pip:\n",
    "\n",
    "- pip install robynpy"
   ]
  },
  {
   "cell_type": "markdown",
   "id": "6fd474b7",
   "metadata": {},
   "source": [
    "\n",
    "## Import Required Libraries\n"
   ]
  },
  {
   "cell_type": "code",
   "execution_count": 1,
   "id": "eb8146e8",
   "metadata": {},
   "outputs": [
    {
     "name": "stderr",
     "output_type": "stream",
     "text": [
      "2024-12-06 19:54:45,008 - robyn - INFO - Logging is set up to console only.\n"
     ]
    }
   ],
   "source": [
    "import sys\n",
    "\n",
    "sys.path.append(\"/Users/yijuilee/robynpy_release_reviews/Robyn/python/src\")\n",
    "\n",
    "import pandas as pd\n",
    "from robyn.robyn import Robyn\n",
    "from robyn.data.entities.mmmdata import MMMData\n",
    "from robyn.data.entities.holidays_data import HolidaysData\n",
    "from robyn.data.entities.hyperparameters import Hyperparameters, ChannelHyperparameters\n",
    "from robyn.data.entities.enums import AdstockType, DependentVarType"
   ]
  },
  {
   "cell_type": "markdown",
   "id": "08d71fdd",
   "metadata": {},
   "source": [
    "## Loading Simulated Data with `robynpy`\n",
    "\n",
    "After installing the `robynpy` package using pip, you can load the simulated data by following these steps:\n",
    "\n",
    "```python\n",
    "# # Step 1: Import Necessary Libraries\n",
    "# import importlib\n",
    "# import robyn\n",
    "# import os\n",
    "# import pandas as pd\n",
    "\n",
    "# # Step 2: Load the `robyn` Package\n",
    "# pkg = importlib.import_module('robyn')\n",
    "\n",
    "# # Step 3: Define the Path to Tutorials\n",
    "# tutorials_path = pkg.__path__[0] + '/tutorials'\n",
    "\n",
    "# # Step 4: Load and Display Simulated Weekly Data\n",
    "# dt_simulated_weekly = pd.read_csv(tutorials_path + \"/resources/dt_simulated_weekly.csv\")\n",
    "# print(\"Simulated Data...\")\n",
    "# print(dt_simulated_weekly.head())\n",
    "\n",
    "# # Step 5: Load and Display Prophet Holidays Data\n",
    "# dt_prophet_holidays = pd.read_csv(tutorials_path + \"/resources/dt_prophet_holidays.csv\")\n",
    "# print(\"Holidays Data...\")\n",
    "# print(dt_prophet_holidays.head())"
   ]
  },
  {
   "cell_type": "markdown",
   "id": "442024b2",
   "metadata": {},
   "source": [
    "## Loading simulated data from local build\n",
    "\n",
    "For this demonstration, we'll use simulated data included with Robyn. In practice, you can replace this with your own marketing data."
   ]
  },
  {
   "cell_type": "code",
   "execution_count": null,
   "id": "6f14728b",
   "metadata": {},
   "outputs": [],
   "source": [
    "# Load simulated weekly data\n",
    "dt_simulated_weekly = pd.read_csv(\"resources/dt_simulated_weekly.csv\")\n",
    "\n",
    "# Load holidays data (used for seasonality modeling)\n",
    "dt_prophet_holidays = pd.read_csv(\"resources/dt_prophet_holidays.csv\")"
   ]
  },
  {
   "cell_type": "markdown",
   "id": "eefbc5da",
   "metadata": {},
   "source": [
    "## Initialize Robyn\n",
    "\n",
    "## 1. Configure MMM Data\n",
    "\n",
    "Define the model specification including dependent variables, independent variables, and analysis window. Here's what each parameter means:\n",
    "\n",
    "### Key Components:\n",
    "- `dep_var`: Your target metric (e.g., \"revenue\", \"conversions\")\n",
    "- `dep_var_type`: Type of dependent variable (\"revenue\" for ROI or \"conversion\" for CPA)\n",
    "- `date_var`: Column name containing dates\n",
    "- `window_start/end`: Analysis time period\n",
    "\n",
    "### Variable Types:\n",
    "- `paid_media_spends`: Columns containing media spend data (e.g., TV, Facebook, Search)\n",
    "- `paid_media_vars`: Media exposure metrics (impressions, clicks) in same order as spends\n",
    "- `context_vars`: External factors (e.g., competitor activities, events, seasonality)\n",
    "- `organic_vars`: Marketing activities without direct spend (e.g., email, social posts)\n",
    "\n",
    "Example configuration:"
   ]
  },
  {
   "cell_type": "code",
   "execution_count": null,
   "id": "6c898a44",
   "metadata": {},
   "outputs": [],
   "source": [
    "mmm_data_spec = MMMData.MMMDataSpec(\n",
    "    dep_var=\"revenue\",  # Target variable\n",
    "    dep_var_type=\"revenue\",  # Type: \"revenue\" or \"conversion\"\n",
    "    date_var=\"DATE\",  # Date column name\n",
    "    context_vars=[\"competitor_sales_B\", \"events\"],  # External factors\n",
    "    paid_media_spends=[\n",
    "        \"tv_S\",\n",
    "        \"ooh_S\",\n",
    "        \"print_S\",\n",
    "        \"facebook_S\",\n",
    "        \"search_S\",\n",
    "    ],  # Media spend columns\n",
    "    paid_media_vars=[\n",
    "        \"tv_S\",\n",
    "        \"ooh_S\",\n",
    "        \"print_S\",\n",
    "        \"facebook_I\",\n",
    "        \"search_clicks_P\",\n",
    "    ],  # Media metrics\n",
    "    organic_vars=[\"newsletter\"],  # Non-paid marketing activities\n",
    "    window_start=\"2016-01-01\",  # Analysis start date\n",
    "    window_end=\"2018-12-31\",  # Analysis end date\n",
    ")\n",
    "\n",
    "mmm_data = MMMData(data=dt_simulated_weekly, mmmdata_spec=mmm_data_spec)"
   ]
  },
  {
   "cell_type": "markdown",
   "id": "12adcbb3",
   "metadata": {},
   "source": [
    "## Configure Holiday Data\n",
    "\n",
    "Holiday data helps capture seasonality and special events in your model. The HolidaysData configuration includes:\n",
    "\n",
    "### Components:\n",
    "- `dt_holidays`: DataFrame containing holiday/events data\n",
    "- `prophet_vars`: Time components to model:\n",
    "  - \"trend\": Long-term trend\n",
    "  - \"season\": Seasonal patterns\n",
    "  - \"holiday\": Holiday/event effects\n",
    "- `prophet_country`: Country code for built-in holidays (e.g., \"DE\" for Germany)\n",
    "- `prophet_signs`: Effect direction for each prophet_var:\n",
    "  - \"default\": Let the model determine direction\n",
    "  - \"positive\": Force positive effect\n",
    "  - \"negative\": Force negative effect\n",
    "\n",
    "Note: You can add custom events (school breaks, promotional periods, etc.) to the holidays data."
   ]
  },
  {
   "cell_type": "code",
   "execution_count": null,
   "id": "060564d8",
   "metadata": {},
   "outputs": [],
   "source": [
    "holidays_data = HolidaysData(\n",
    "    dt_holidays=dt_prophet_holidays,\n",
    "    prophet_vars=[\"trend\", \"season\", \"holiday\"],\n",
    "    prophet_country=\"DE\",\n",
    "    prophet_signs=[\"default\", \"default\", \"default\"],\n",
    ")"
   ]
  },
  {
   "cell_type": "markdown",
   "id": "dc127bdd",
   "metadata": {},
   "source": [
    "## Configure Hyperparameters\n",
    "\n",
    "Hyperparameters control how media effects are modeled. Each channel requires three key parameters:\n",
    "\n",
    "### Media Channel Parameters:\n",
    "- `alphas`: Controls saturation curve shape [0.5, 3]\n",
    "  - Lower values (0.5-1): More diminishing returns\n",
    "  - Higher values (2-3): More S-shaped response\n",
    "  \n",
    "- `gammas`: Controls saturation curve inflection point [0.3, 1]\n",
    "  - Lower values: Earlier diminishing returns\n",
    "  - Higher values: Later diminishing returns\n",
    "\n",
    "- `thetas`: Controls adstock decay rate [0, 0.8]\n",
    "  - Lower values (0-0.2): Fast decay (e.g., Search, Social)\n",
    "  - Medium values (0.1-0.4): Medium decay (e.g., Print, OOH)\n",
    "  - Higher values (0.3-0.8): Slow decay (e.g., TV)\n",
    "\n",
    "### Global Parameters:\n",
    "- `adstock`: Type of carryover effect modeling\n",
    "  - \"geometric\": Fixed decay rate\n",
    "  - \"weibull_cdf\": Flexible decay with cumulative distribution\n",
    "  - \"weibull_pdf\": Flexible decay with potential peak delay\n",
    "\n",
    "- `lambda_`: Ridge regression regularization [0, 1]\n",
    "- `train_size`: Proportion of data for training [0.5, 0.8]"
   ]
  },
  {
   "cell_type": "code",
   "execution_count": null,
   "id": "32f6e411",
   "metadata": {},
   "outputs": [],
   "source": [
    "hyperparameters = Hyperparameters(\n",
    "    hyperparameters={\n",
    "        \"facebook_S\": ChannelHyperparameters(\n",
    "            alphas=[0.5, 3],\n",
    "            gammas=[0.3, 1],\n",
    "            thetas=[0, 0.3],\n",
    "        ),\n",
    "        \"print_S\": ChannelHyperparameters(\n",
    "            alphas=[0.5, 3],\n",
    "            gammas=[0.3, 1],\n",
    "            thetas=[0.1, 0.4],\n",
    "        ),\n",
    "        \"tv_S\": ChannelHyperparameters(\n",
    "            alphas=[0.5, 3],\n",
    "            gammas=[0.3, 1],\n",
    "            thetas=[0.3, 0.8],\n",
    "        ),\n",
    "        \"search_S\": ChannelHyperparameters(\n",
    "            alphas=[0.5, 3],\n",
    "            gammas=[0.3, 1],\n",
    "            thetas=[0, 0.3],\n",
    "        ),\n",
    "        \"ooh_S\": ChannelHyperparameters(\n",
    "            alphas=[0.5, 3],\n",
    "            gammas=[0.3, 1],\n",
    "            thetas=[0.1, 0.4],\n",
    "        ),\n",
    "        \"newsletter\": ChannelHyperparameters(\n",
    "            alphas=[0.5, 3],\n",
    "            gammas=[0.3, 1],\n",
    "            thetas=[0.1, 0.4],\n",
    "        ),\n",
    "    },\n",
    "    adstock=AdstockType.GEOMETRIC,\n",
    "    lambda_=[0, 1],\n",
    "    train_size=[0.5, 0.8],\n",
    ")"
   ]
  },
  {
   "cell_type": "markdown",
   "id": "13abb5f1",
   "metadata": {},
   "source": [
    "### 4. Initialize model and run feature engineering"
   ]
  },
  {
   "cell_type": "code",
   "execution_count": null,
   "id": "2850c314",
   "metadata": {},
   "outputs": [],
   "source": [
    "robyn = Robyn(working_dir=\"output\")\n",
    "robyn.initialize(\n",
    "    mmm_data=mmm_data,\n",
    "    holidays_data=holidays_data,\n",
    "    hyperparameters=hyperparameters,\n",
    ")"
   ]
  },
  {
   "cell_type": "markdown",
   "id": "9c8bb82e",
   "metadata": {},
   "source": [
    "## Feature Engineering"
   ]
  },
  {
   "cell_type": "code",
   "execution_count": null,
   "id": "72917fc5",
   "metadata": {},
   "outputs": [],
   "source": [
    "%matplotlib inline\n",
    "# Run feature engineering\n",
    "robyn.feature_engineering();"
   ]
  },
  {
   "cell_type": "markdown",
   "id": "d836832f",
   "metadata": {},
   "source": [
    "## Model Training\n",
    "\n",
    "### Training Configuration:\n",
    "- `trials`: Number of parallel optimization trials (e.g., 5)\n",
    "- `iterations`: Optimization iterations per trial (e.g., 2000)\n",
    "- `ts_validation`: Whether to use time-series validation\n",
    "- `cores`: Number of CPU cores to use for parallel processing\n",
    "- `nevergrad_algo`: Optimization algorithm (TWO_POINTS_DE recommended)\n",
    "- `model_name`: Model type (RIDGE regression recommended)\n",
    "\n",
    "Parameters:\n",
    "- `add_penalty_factor`: Additional regularization for stability\n",
    "- `rssd_zero_penalty`: Penalize unrealistic zero contributions\n",
    "- `intercept`: Include intercept term\n",
    "- `intercept_sign`: Control intercept direction"
   ]
  },
  {
   "cell_type": "code",
   "execution_count": null,
   "id": "08cc2ddb",
   "metadata": {},
   "outputs": [],
   "source": [
    "from robyn.modeling.entities.enums import Models, NevergradAlgorithm\n",
    "from robyn.modeling.entities.modelrun_trials_config import TrialsConfig\n",
    "\n",
    "trials_config = TrialsConfig(iterations=54, trials=5)\n",
    "\n",
    "robyn.train_models(\n",
    "    trials_config=trials_config,\n",
    "    ts_validation=True,\n",
    "    add_penalty_factor=False,\n",
    "    rssd_zero_penalty=True,\n",
    "    cores=8,\n",
    "    nevergrad_algo=NevergradAlgorithm.TWO_POINTS_DE,\n",
    "    model_name=Models.RIDGE,\n",
    ")"
   ]
  },
  {
   "cell_type": "markdown",
   "id": "69d510f2",
   "metadata": {},
   "source": [
    "## Evaluate Models\n",
    "\n",
    "After training, we evaluate and cluster models to find stable solutions. The clustering process helps identify groups of models with similar characteristics and performance.\n",
    "\n",
    "### Clustering Configuration Parameters:\n",
    "\n",
    "1. `dep_var_type`: Sets the dependent variable type\n",
    "   - \"revenue\" for revenue/ROI models\n",
    "   - \"conversion\" for conversion/CPA models\n",
    "\n",
    "2. `cluster_by`: Choose clustering criterion:\n",
    "   - `ClusterBy.HYPERPARAMETERS`: Group models by similar media parameters\n",
    "   - `ClusterBy.DECOMPOSITION`: Group by similar channel contributions\n",
    "   - `ClusterBy.COMBINED`: Use both criteria\n",
    "\n",
    "3. `max_clusters` and `min_clusters`: Control cluster count\n",
    "   - `min_clusters=3`: Minimum groups to identify\n",
    "   - `max_clusters=10`: Maximum groups to consider\n",
    "   - Balance between too few (oversimplified) and too many (overcomplicated)\n",
    "\n",
    "4. `weights`: Importance of different clustering criteria [nrmse, decomp, rsq]\n",
    "   - Default [1.0, 1.0, 1.0] weights all criteria equally\n",
    "   - Adjust weights to prioritize certain aspects"
   ]
  },
  {
   "cell_type": "code",
   "execution_count": null,
   "id": "c6d397f9",
   "metadata": {},
   "outputs": [],
   "source": [
    "from robyn.modeling.clustering.clustering_config import ClusterBy, ClusteringConfig\n",
    "\n",
    "configs = ClusteringConfig(\n",
    "    dep_var_type=DependentVarType(mmm_data.mmmdata_spec.dep_var_type),\n",
    "    cluster_by=ClusterBy.HYPERPARAMETERS,\n",
    "    max_clusters=10,\n",
    "    min_clusters=3,\n",
    "    weights=[1.0, 1.0, 1.0],\n",
    ")\n",
    "\n",
    "robyn.evaluate_models(cluster_config=configs)"
   ]
  },
  {
   "cell_type": "markdown",
   "id": "7cebb194",
   "metadata": {},
   "source": [
    "## Generate One-Pager Report\n",
    "\n",
    "The one-pager report provides a comprehensive visualization of your model's results through 8 key plots:\n",
    "\n",
    "1. **Share of Total Spend, Effect & Performance**\n",
    "  - Compares media channel spend shares vs their effectiveness\n",
    "  - Shows ROI/CPA performance by channel\n",
    "\n",
    "2. **Response Decomposition Waterfall**\n",
    "  - Breaks down total response into channel contributions\n",
    "  - Shows base, incremental, and total effects\n",
    "\n",
    "3. **Actual vs. Predicted Response**\n",
    "  - Plots actual vs model-predicted values\n",
    "  - Helps validate model fit quality\n",
    "\n",
    "4. **Fitted vs. Residual Plot**\n",
    "  - Diagnostic plot showing model residuals\n",
    "  - Helps check model assumptions\n",
    "\n",
    "5. **Immediate vs. Carryover Response**\n",
    "  - Shows split between immediate and carryover effects\n",
    "  - Reveals lag effects by channel\n",
    "\n",
    "6. **Adstock Rate Analysis**\n",
    "  - Visualizes decay rates by channel\n",
    "  - Shows how media effects persist over time\n",
    "\n",
    "7. **Bootstrapped Performance Metrics**\n",
    "  - Confidence intervals for model metrics\n",
    "  - Shows model stability\n",
    "\n",
    "8. **Response Curves by Channel**\n",
    "  - Shows diminishing returns curves\n",
    "  - Plots response vs spend by channel"
   ]
  },
  {
   "cell_type": "code",
   "execution_count": null,
   "id": "a0f68f80",
   "metadata": {},
   "outputs": [],
   "source": [
    "robyn.generate_one_pager()"
   ]
  },
  {
   "cell_type": "code",
   "execution_count": null,
   "id": "9ed54130",
   "metadata": {},
   "outputs": [],
   "source": [
    "# robyn.generate_one_pager(solution_id=\"1_1994_1\")"
   ]
  },
  {
   "cell_type": "markdown",
   "id": "e87e98ff",
   "metadata": {},
   "source": [
    "## Budget Allocation Optimization\n",
    "\n",
    "Robyn provides different scenarios for budget allocation optimization. Let's explore the \"max_response\" scenario:\n",
    "\n",
    "### Scenario: Maximum Response\n",
    "This scenario answers the question: \"What's the maximum return given certain spend constraints?\"\n",
    "\n",
    "Key parameters:\n",
    "- `total_budget`: When set to None, uses the total spend in the selected date range\n",
    "- `channel_constr_low`: Minimum spend multiplier (e.g., 0.7 means channel spend can't go below 70% of current)\n",
    "- `channel_constr_up`: Maximum spend multiplier per channel (e.g., 1.5 means channel spend can't exceed 150% of current)\n",
    "- `channel_constr_multiplier`: Extends bounds for wider optimization insights\n",
    "- `date_range`: Period for optimization (\"all\", \"last_X\", or specific date range)\n",
    "\n",
    "Note: Other scenarios include:\n",
    "- \"target_efficiency\": Optimize spend to hit specific ROAS or CPA targets\n",
    "- \"min_spend\": Find minimum spend required to hit response targets\n",
    "- \"max_response_expected\": Maximize expected response within confidence intervals\n",
    "\n",
    "For this example, we'll demonstrate the \"max_response\" scenario:"
   ]
  },
  {
   "cell_type": "code",
   "execution_count": null,
   "id": "2859a6cb",
   "metadata": {},
   "outputs": [],
   "source": [
    "from robyn.allocator.entities.allocation_params import AllocatorParams\n",
    "from robyn.allocator.constants import (\n",
    "    SCENARIO_MAX_RESPONSE,\n",
    "    CONSTRAINT_MODE_EQ,\n",
    ")\n",
    "\n",
    "allocator_params = AllocatorParams(\n",
    "    scenario=SCENARIO_MAX_RESPONSE,\n",
    "    total_budget=None,  # Uses total spend in date_range when None\n",
    "    date_range=\"all\",\n",
    "    channel_constr_low=[0.7],  # Minimum spend multiplier\n",
    "    channel_constr_up=[1.2, 1.5, 1.5, 1.5, 1.5],  # Maximum spend multiplier\n",
    "    channel_constr_multiplier=3.0,\n",
    "    optim_algo=\"SLSQP_AUGLAG\",\n",
    "    maxeval=100000,\n",
    "    constr_mode=CONSTRAINT_MODE_EQ,\n",
    "    plots=True,\n",
    ")\n",
    "\n",
    "allocation_result = robyn.optimize_budget(\n",
    "    allocator_params=allocator_params,\n",
    "    select_model=None,\n",
    ")"
   ]
  }
 ],
 "metadata": {
  "kernelspec": {
   "display_name": ".venv",
   "language": "python",
   "name": "python3"
  },
  "language_info": {
   "codemirror_mode": {
    "name": "ipython",
    "version": 3
   },
   "file_extension": ".py",
   "mimetype": "text/x-python",
   "name": "python",
   "nbconvert_exporter": "python",
   "pygments_lexer": "ipython3",
   "version": "3.10.15"
  }
 },
 "nbformat": 4,
 "nbformat_minor": 5
}
