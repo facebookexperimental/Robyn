{
 "cells": [
  {
   "cell_type": "code",
   "execution_count": null,
   "metadata": {},
   "outputs": [],
   "source": [
    "import sys\n",
    "\n",
    "# Add Robyn to path\n",
    "sys.path.append(\"/Users/yijuilee/robynpy_release_reviews/Robyn/python/src\")"
   ]
  },
  {
   "cell_type": "code",
   "execution_count": null,
   "metadata": {},
   "outputs": [],
   "source": [
    "# Test Pareto Optimizer\n",
    "\n",
    "from robyn.modeling.pareto.pareto_optimizer import ParetoOptimizer\n",
    "from robyn.tutorials.utils.data_mapper import (\n",
    "    import_output_models,\n",
    "    import_input_collect,\n",
    "    load_data_from_json,\n",
    ")"
   ]
  },
  {
   "cell_type": "code",
   "execution_count": null,
   "metadata": {},
   "outputs": [],
   "source": [
    "# Load data from JSON\n",
    "inputCollect = load_data_from_json(\n",
    "    \"/Users/yijuilee/project_robyn/original/Robyn_original_2/Robyn/robyn_api/data/Pareto_InputCollect.json\"\n",
    ")\n",
    "outputModel = load_data_from_json(\n",
    "    \"/Users/yijuilee/project_robyn/original/Robyn_original_2/Robyn/robyn_api/data/Pareto_OutputModels.json\"\n",
    ")\n",
    "input_collect = import_input_collect(inputCollect)\n",
    "output_models = import_output_models(outputModel)"
   ]
  },
  {
   "cell_type": "code",
   "execution_count": null,
   "metadata": {},
   "outputs": [],
   "source": [
    "mmm_data = input_collect[\"mmm_data\"]\n",
    "# display(mmm_data.data.head())\n",
    "# Display Model Outputs\n",
    "\n",
    "output_models = output_models\n",
    "# display((model_outputs.trials[0].result_hyp_param))\n",
    "\n",
    "hyperparameters = input_collect[\"hyperparameters\"]\n",
    "# display(hyperparameters)\n",
    "\n",
    "featurized_mmm_data = input_collect[\"featurized_mmm_data\"]\n",
    "\n",
    "holidays_data = input_collect[\"holidays_data\"]"
   ]
  },
  {
   "cell_type": "code",
   "execution_count": null,
   "metadata": {},
   "outputs": [],
   "source": [
    "# Add after model training\n",
    "print(\"Model Output Summary:\")\n",
    "print(f\"Number of trials: {len(output_models.trials)}\")\n",
    "print(\n",
    "    f\"Average models per trial: {len(output_models.all_result_hyp_param) / len(output_models.trials)}\"\n",
    ")\n",
    "print(\n",
    "    f\"Total unique models: {len(output_models.all_result_hyp_param['sol_id'].unique())}\"\n",
    ")\n",
    "\n",
    "print(\"\\nMetrics Distribution:\")\n",
    "metrics_df = output_models.all_result_hyp_param[[\"nrmse\", \"decomp.rssd\", \"mape\"]]\n",
    "print(metrics_df.describe())\n",
    "\n",
    "# Additional validation to debug model output\n",
    "print(\"\\nColumns in result_hyp_param:\")\n",
    "print(output_models.all_result_hyp_param.columns.tolist())\n",
    "\n",
    "print(\"\\nSample rows of metrics:\")\n",
    "print(\n",
    "    output_models.all_result_hyp_param[\n",
    "        [\"sol_id\", \"nrmse\", \"decomp.rssd\", \"mape\"]\n",
    "    ].head()\n",
    ")\n",
    "\n",
    "# Show shape of result dataframes\n",
    "print(\"\\nDataFrame Shapes:\")\n",
    "print(f\"result_hyp_param: {output_models.all_result_hyp_param.shape}\")\n",
    "print(f\"x_decomp_agg: {output_models.all_x_decomp_agg.shape}\")\n",
    "print(f\"decomp_spend_dist: {output_models.all_decomp_spend_dist.shape}\")"
   ]
  },
  {
   "cell_type": "code",
   "execution_count": null,
   "metadata": {},
   "outputs": [],
   "source": [
    "# 3. Create ParetoOptimizer instance\n",
    "pareto_optimizer = ParetoOptimizer(\n",
    "    mmm_data, output_models, hyperparameters, featurized_mmm_data, holidays_data\n",
    ")"
   ]
  },
  {
   "cell_type": "code",
   "execution_count": null,
   "metadata": {},
   "outputs": [],
   "source": [
    "# 4. Run optimize function\n",
    "pareto_result = pareto_optimizer.optimize(pareto_fronts=\"auto\", min_candidates=100)"
   ]
  },
  {
   "cell_type": "code",
   "execution_count": null,
   "metadata": {},
   "outputs": [],
   "source": [
    "# 5. Check results\n",
    "print(\"Pareto Optimization Results:\")\n",
    "print(\n",
    "    f\"Number of Pareto fronts: {len(pareto_result.pareto_solutions)} - {pareto_result.pareto_solutions}\"\n",
    ")\n",
    "print(\n",
    "    f\"MediaVecCollect: {pareto_result.media_vec_collect.shape, pareto_result.media_vec_collect}\"\n",
    ")\n",
    "print(\"\\Hyper parameter solutions:\")\n",
    "print(pareto_result.result_hyp_param)\n",
    "\n",
    "print(\"\\nAggregated decomposition results:\")\n",
    "print(pareto_result.x_decomp_agg)\n",
    "print(\"\\result Calibration:\")\n",
    "print(pareto_result.result_calibration)\n",
    "print(\"\\nx Decomp Vec Collect:\")\n",
    "print(pareto_result.x_decomp_vec_collect.shape, pareto_result.x_decomp_vec_collect)\n",
    "print(\"\\nCarryover percentage all:\")\n",
    "print(pareto_result.df_caov_pct_all.shape, pareto_result.df_caov_pct_all)\n",
    "print(\"\\Plot Data Collected\")\n",
    "# print(\"NUMBER OF PLOTS Data collected for:\", len(pareto_result.plot_data_collect[\"2_4_8\"]))\n",
    "# print(\"Plot data for solid 3_206_6\", pareto_result.plot_data_collect[\"2_4_8\"])\n",
    "\n",
    "# 6. Validate logic\n",
    "assert pareto_result.pareto_fronts == \"auto\" or isinstance(\n",
    "    pareto_result.pareto_fronts, int\n",
    "), \"Invalid pareto_fronts value\"\n",
    "assert not pareto_result.result_hyp_param.empty, \"Empty result_hyp_param DataFrame\"\n",
    "assert not pareto_result.x_decomp_agg.empty, \"Empty x_decomp_agg DataFrame\"\n",
    "\n",
    "print(\"\\nAll assertions passed. The optimize function is working as expected.\")"
   ]
  },
  {
   "cell_type": "code",
   "execution_count": null,
   "metadata": {},
   "outputs": [],
   "source": [
    "print(pareto_result.x_decomp_agg[pareto_result.x_decomp_agg[\"sol_id\"] == \"5_221_9\"])"
   ]
  },
  {
   "cell_type": "markdown",
   "metadata": {},
   "source": [
    "# Clustering"
   ]
  },
  {
   "cell_type": "code",
   "execution_count": null,
   "metadata": {},
   "outputs": [],
   "source": [
    "from robyn.modeling.clustering.clustering_config import ClusteringConfig, ClusterBy\n",
    "from robyn.modeling.clustering.cluster_builder import ClusterBuilder\n",
    "from robyn.data.entities.enums import DependentVarType\n",
    "import plotly.io as pio\n",
    "\n",
    "pio.renderers.default = \"iframe\"\n",
    "\n",
    "cluster_configs = ClusteringConfig(\n",
    "    dep_var_type=DependentVarType(mmm_data.mmmdata_spec.dep_var_type),\n",
    "    cluster_by=ClusterBy.HYPERPARAMETERS,\n",
    "    max_clusters=10,\n",
    "    min_clusters=3,\n",
    "    weights=[1.0, 1.0, 1.0],\n",
    ")\n",
    "\n",
    "cluster_builder = ClusterBuilder(pareto_result=pareto_result)"
   ]
  },
  {
   "cell_type": "code",
   "execution_count": null,
   "metadata": {},
   "outputs": [],
   "source": [
    "cluster_results = cluster_builder.cluster_models(cluster_configs)"
   ]
  },
  {
   "cell_type": "code",
   "execution_count": null,
   "metadata": {},
   "outputs": [],
   "source": [
    "# Cluster result Validations (graphs)\n",
    "print(cluster_results.top_solutions[\"sol_id\"])\n",
    "cluster_results.wss"
   ]
  },
  {
   "cell_type": "code",
   "execution_count": null,
   "metadata": {},
   "outputs": [],
   "source": [
    "cluster_results.plots.top_solutions_errors_plot"
   ]
  },
  {
   "cell_type": "code",
   "execution_count": null,
   "metadata": {},
   "outputs": [],
   "source": [
    "cluster_results.plots.top_solutions_rois_plot"
   ]
  },
  {
   "cell_type": "code",
   "execution_count": null,
   "metadata": {},
   "outputs": [],
   "source": [
    "cluster_results.cluster_ci.clusters_confidence_interval_plot"
   ]
  },
  {
   "cell_type": "markdown",
   "metadata": {},
   "source": [
    "### Process Pareto Clustered Results for Allocator"
   ]
  },
  {
   "cell_type": "code",
   "execution_count": null,
   "metadata": {},
   "outputs": [],
   "source": [
    "from robyn.modeling.pareto.pareto_utils import ParetoUtils\n",
    "\n",
    "utils = ParetoUtils()\n",
    "filtered_pareto_results = utils.process_pareto_clustered_results(\n",
    "    pareto_result,\n",
    "    clustered_result=cluster_results,\n",
    "    ran_cluster=True,\n",
    "    ran_calibration=False,\n",
    ")"
   ]
  },
  {
   "cell_type": "markdown",
   "metadata": {},
   "source": [
    "# One Pager Results"
   ]
  },
  {
   "cell_type": "code",
   "execution_count": null,
   "metadata": {},
   "outputs": [],
   "source": [
    "from robyn.data.entities.enums import AdstockType\n",
    "from robyn.reporting.onepager_reporting import OnePager\n",
    "from robyn.visualization.pareto_visualizer import ParetoVisualizer\n",
    "\n",
    "\n",
    "visualizer = OnePager(\n",
    "    pareto_result=filtered_pareto_results,\n",
    "    clustered_result=cluster_results,\n",
    "    hyperparameter=hyperparameters,\n",
    "    mmm_data=mmm_data,\n",
    "    holidays_data=holidays_data,\n",
    ")\n",
    "visualizer.generate_one_pager(top_pareto=True)"
   ]
  },
  {
   "cell_type": "code",
   "execution_count": null,
   "metadata": {},
   "outputs": [],
   "source": [
    "visualizer = ParetoVisualizer(\n",
    "    pareto_result=filtered_pareto_results,\n",
    "    hyperparameter=hyperparameters,\n",
    "    mmm_data=mmm_data,\n",
    "    holiday_data=holidays_data,\n",
    "    featurized_mmm_data=featurized_mmm_data,\n",
    "    unfiltered_pareto_result=pareto_result,\n",
    "    model_outputs=output_models,\n",
    ")\n",
    "\n",
    "visualizer.plot_all(True)"
   ]
  },
  {
   "cell_type": "markdown",
   "metadata": {},
   "source": [
    "# Allocator"
   ]
  }
 ],
 "metadata": {
  "kernelspec": {
   "display_name": ".venv",
   "language": "python",
   "name": "python3"
  },
  "language_info": {
   "codemirror_mode": {
    "name": "ipython",
    "version": 3
   },
   "file_extension": ".py",
   "mimetype": "text/x-python",
   "name": "python",
   "nbconvert_exporter": "python",
   "pygments_lexer": "ipython3",
   "version": "3.10.15"
  }
 },
 "nbformat": 4,
 "nbformat_minor": 2
}
