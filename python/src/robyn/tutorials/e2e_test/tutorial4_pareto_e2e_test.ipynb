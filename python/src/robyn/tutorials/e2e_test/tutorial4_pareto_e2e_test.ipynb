{
 "cells": [
  {
   "cell_type": "code",
   "execution_count": 1,
   "metadata": {},
   "outputs": [],
   "source": [
    "import sys\n",
    "\n",
    "# Add Robyn to path\n",
    "sys.path.append(\"/Users/yijuilee/robynpy_release_reviews/Robyn/python/src\")"
   ]
  },
  {
   "cell_type": "code",
   "execution_count": 2,
   "metadata": {},
   "outputs": [
    {
     "name": "stderr",
     "output_type": "stream",
     "text": [
      "2024-11-14 17:35:23,808 - robyn - INFO - Logging is set up to console only.\n"
     ]
    }
   ],
   "source": [
    "# Test Pareto Optimizer\n",
    "\n",
    "from robyn.modeling.pareto.pareto_optimizer import ParetoOptimizer\n",
    "from robyn.tutorials.utils.data_mapper import import_output_models, import_input_collect, load_data_from_json"
   ]
  },
  {
   "cell_type": "code",
   "execution_count": null,
   "metadata": {},
   "outputs": [],
   "source": [
    "# Load data from JSON\n",
    "inputCollect = load_data_from_json(\n",
    "    \"/Users/yijuilee/project_robyn/original/Robyn_original_2/Robyn/robyn_api/data/Pareto_InputCollect.json\"\n",
    ")\n",
    "outputModel = load_data_from_json(\n",
    "    \"/Users/yijuilee/project_robyn/original/Robyn_original_2/Robyn/robyn_api/data/Pareto_OutputModels.json\"\n",
    ")\n",
    "input_collect = import_input_collect(inputCollect)\n",
    "output_models = import_output_models(outputModel)"
   ]
  },
  {
   "cell_type": "code",
   "execution_count": null,
   "metadata": {},
   "outputs": [],
   "source": [
    "mmm_data = input_collect[\"mmm_data\"]\n",
    "# display(mmm_data.data.head())\n",
    "# Display Model Outputs\n",
    "\n",
    "output_models = output_models\n",
    "# display((model_outputs.trials[0].result_hyp_param))\n",
    "\n",
    "hyperparameters = input_collect[\"hyperparameters\"]\n",
    "# display(hyperparameters)\n",
    "\n",
    "featurized_mmm_data = input_collect[\"featurized_mmm_data\"]\n",
    "\n",
    "holidays_data = input_collect[\"holidays_data\"]"
   ]
  },
  {
   "cell_type": "code",
   "execution_count": null,
   "metadata": {},
   "outputs": [],
   "source": [
    "# Add after model training\n",
    "print(\"Model Output Summary:\")\n",
    "print(f\"Number of trials: {len(output_models.trials)}\")\n",
    "print(f\"Average models per trial: {len(output_models.all_result_hyp_param) / len(output_models.trials)}\")\n",
    "print(f\"Total unique models: {len(output_models.all_result_hyp_param['sol_id'].unique())}\")\n",
    "\n",
    "print(\"\\nMetrics Distribution:\")\n",
    "metrics_df = output_models.all_result_hyp_param[[\"nrmse\", \"decomp.rssd\", \"mape\"]]\n",
    "print(metrics_df.describe())\n",
    "\n",
    "# Additional validation to debug model output\n",
    "print(\"\\nColumns in result_hyp_param:\")\n",
    "print(output_models.all_result_hyp_param.columns.tolist())\n",
    "\n",
    "print(\"\\nSample rows of metrics:\")\n",
    "print(output_models.all_result_hyp_param[[\"sol_id\", \"nrmse\", \"decomp.rssd\", \"mape\"]].head())\n",
    "\n",
    "# Show shape of result dataframes\n",
    "print(\"\\nDataFrame Shapes:\")\n",
    "print(f\"result_hyp_param: {output_models.all_result_hyp_param.shape}\")\n",
    "print(f\"x_decomp_agg: {output_models.all_x_decomp_agg.shape}\")\n",
    "print(f\"decomp_spend_dist: {output_models.all_decomp_spend_dist.shape}\")"
   ]
  },
  {
   "cell_type": "code",
   "execution_count": null,
   "metadata": {},
   "outputs": [],
   "source": [
    "# 3. Create ParetoOptimizer instance\n",
    "pareto_optimizer = ParetoOptimizer(mmm_data, output_models, hyperparameters, featurized_mmm_data, holidays_data)"
   ]
  },
  {
   "cell_type": "code",
   "execution_count": null,
   "metadata": {},
   "outputs": [],
   "source": [
    "# 4. Run optimize function\n",
    "pareto_result = pareto_optimizer.optimize(pareto_fronts=\"auto\", min_candidates=100)"
   ]
  },
  {
   "cell_type": "code",
   "execution_count": null,
   "metadata": {},
   "outputs": [],
   "source": [
    "pareto_result.plot_data_collect"
   ]
  },
  {
   "cell_type": "code",
   "execution_count": null,
   "metadata": {},
   "outputs": [],
   "source": [
    "# 5. Check results\n",
    "print(\"Pareto Optimization Results:\")\n",
    "print(f\"Number of Pareto fronts: {pareto_result.pareto_solutions}\")\n",
    "print(f\"MediaVecCollect: {pareto_result.media_vec_collect.shape, pareto_result.media_vec_collect}\")\n",
    "print(\"\\Hyper parameter solutions:\")\n",
    "print(pareto_result.result_hyp_param)\n",
    "\n",
    "print(\"\\nAggregated decomposition results:\")\n",
    "print(pareto_result.x_decomp_agg)\n",
    "print(\"\\result Calibration:\")\n",
    "print(pareto_result.result_calibration)\n",
    "print(\"\\nx Decomp Vec Collect:\")\n",
    "print(pareto_result.x_decomp_vec_collect.shape, pareto_result.x_decomp_vec_collect)\n",
    "print(\"\\nCarryover percentage all:\")\n",
    "print(pareto_result.df_caov_pct_all.shape, pareto_result.df_caov_pct_all)\n",
    "print(\"\\Plot Data Collected\")\n",
    "# print(\"NUMBER OF PLOTS Data collected for:\", len(pareto_result.plot_data_collect[\"2_4_8\"]))\n",
    "# print(\"Plot data for solid 3_206_6\", pareto_result.plot_data_collect[\"2_4_8\"])\n",
    "\n",
    "# 6. Validate logic\n",
    "assert pareto_result.pareto_fronts == \"auto\" or isinstance(\n",
    "    pareto_result.pareto_fronts, int\n",
    "), \"Invalid pareto_fronts value\"\n",
    "assert not pareto_result.result_hyp_param.empty, \"Empty result_hyp_param DataFrame\"\n",
    "assert not pareto_result.x_decomp_agg.empty, \"Empty x_decomp_agg DataFrame\"\n",
    "\n",
    "print(\"\\nAll assertions passed. The optimize function is working as expected.\")"
   ]
  },
  {
   "cell_type": "markdown",
   "metadata": {},
   "source": [
    "# Only export this to a pickle file if you plan to use the results and the mmm_data in another notebook"
   ]
  },
  {
   "cell_type": "code",
   "execution_count": null,
   "metadata": {},
   "outputs": [],
   "source": [
    "import pickle\n",
    "\n",
    "with open(\"pareto_result.pkl\", \"wb\") as f:\n",
    "    pickle.dump(pareto_result, f)\n",
    "with open(\"mmmdata.pkl\", \"wb\") as f:\n",
    "    pickle.dump(mmm_data, f)"
   ]
  }
 ],
 "metadata": {
  "kernelspec": {
   "display_name": ".venv",
   "language": "python",
   "name": "python3"
  },
  "language_info": {
   "codemirror_mode": {
    "name": "ipython",
    "version": 3
   },
   "file_extension": ".py",
   "mimetype": "text/x-python",
   "name": "python",
   "nbconvert_exporter": "python",
   "pygments_lexer": "ipython3",
   "version": "3.9.6"
  }
 },
 "nbformat": 4,
 "nbformat_minor": 2
}
