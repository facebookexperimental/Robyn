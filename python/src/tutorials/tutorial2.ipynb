{
 "cells": [
  {
   "cell_type": "markdown",
   "id": "53f2f84a",
   "metadata": {},
   "source": [
    "# Robyn: Marketing Mix Modeling Application\n",
    "\n",
    "This notebook demonstrates the usage of Robyn, a Marketing Mix Modeling (MMM) application. \n",
    "We'll go through the main steps of performing robyn_inputs and robyn_engineering.\n"
   ]
  },
  {
   "cell_type": "markdown",
   "id": "6fd474b7",
   "metadata": {},
   "source": [
    "\n",
    "## 1. Import Required Libraries. Define Paths.\n",
    "\n",
    "First, let's import the necessary libraries. Make sure to define your paths in the .env file."
   ]
  },
  {
   "cell_type": "code",
   "execution_count": null,
   "id": "5930e4b4",
   "metadata": {},
   "outputs": [],
   "source": [
    "from dotenv import load_dotenv\n",
    "import os\n",
    "import sys\n",
    "\n",
    "# Load environment variables from .env file\n",
    "load_dotenv()\n",
    "# Retrieve the ROBYN_BASE_PATH environment variable\n",
    "base_path = os.getenv(\"ROBYN_BASE_PATH\")\n",
    "if not base_path:\n",
    "    raise EnvironmentError(\"Please set the ROBYN_BASE_PATH environment variable\")\n",
    "# Retrieve the PYTHONPATH environment variable\n",
    "python_path = os.getenv(\"PYTHONPATH\")\n",
    "if not python_path:\n",
    "    raise EnvironmentError(\"Please set the PYTHONPATH environment variable in the .env file\")\n",
    "# Append the paths to sys.path to recognize them as valid Python package paths\n",
    "sys.path.append(base_path)\n",
    "sys.path.append(python_path)"
   ]
  },
  {
   "cell_type": "code",
   "execution_count": null,
   "id": "eb8146e8",
   "metadata": {},
   "outputs": [],
   "source": [
    "import sys\n",
    "import os\n",
    "import numpy as np\n",
    "import pandas as pd\n",
    "import pyreadr\n",
    "from typing import Dict, Any\n",
    "from robyn.data.entities.mmmdata import MMMData\n",
    "from robyn.data.entities.holidays_data import HolidaysData\n",
    "from robyn.data.entities.hyperparameters import Hyperparameters\n",
    "from robyn.modeling.entities.modelrun_trials_config import TrialsConfig\n",
    "from robyn.modeling.model_executor import ModelExecutor\n",
    "from robyn.modeling.ridge_model_builder import RidgeModelBuilder\n",
    "from robyn.modeling.entities.enums import NevergradAlgorithm, Models\n",
    "from robyn.modeling.feature_engineering import FeaturizedMMMData, FeatureEngineering"
   ]
  },
  {
   "cell_type": "markdown",
   "id": "442024b2",
   "metadata": {},
   "source": [
    "## 2.1 Load Mock R data\n",
    "\n",
    "We need to set the base path for the data directory.\n",
    "Create a .env file in the same directory as your notebook and put in define the path to the data dir.\n",
    "for example: ROBYN_BASE_PATH=.../Robyn/R/data"
   ]
  },
  {
   "cell_type": "code",
   "execution_count": null,
   "id": "408ad24b",
   "metadata": {},
   "outputs": [],
   "source": [
    "def load_data() -> Dict[str, pd.DataFrame]:\n",
    "    base_path = os.getenv(\"ROBYN_BASE_PATH\")\n",
    "    if not base_path:\n",
    "        raise EnvironmentError(\"Please set the ROBYN_BASE_PATH environment variable\")\n",
    "\n",
    "    simulated_weekly_path = os.path.join(base_path, \"dt_simulated_weekly.RData\")\n",
    "    prophet_holidays_path = os.path.join(base_path, \"dt_prophet_holidays.RData\")\n",
    "\n",
    "    result = pyreadr.read_r(simulated_weekly_path)\n",
    "    dt_simulated_weekly = result[\"dt_simulated_weekly\"]\n",
    "    result_holidays = pyreadr.read_r(prophet_holidays_path)\n",
    "    dt_prophet_holidays = result_holidays[\"dt_prophet_holidays\"]\n",
    "\n",
    "    return {\"dt_simulated_weekly\": dt_simulated_weekly, \"dt_prophet_holidays\": dt_prophet_holidays}\n",
    "\n",
    "\n",
    "data = load_data()\n",
    "data[\"dt_simulated_weekly\"].head()\n",
    "data[\"dt_prophet_holidays\"].head()"
   ]
  },
  {
   "cell_type": "markdown",
   "id": "54d0c5ac",
   "metadata": {},
   "source": [
    "## Setup MMM Data\n",
    "\n",
    "We will now set up the MMM data specification which includes defining the dependent variable, independent variables, and the time window for analysis."
   ]
  },
  {
   "cell_type": "code",
   "execution_count": null,
   "id": "223d0d0f",
   "metadata": {},
   "outputs": [],
   "source": [
    "def setup_mmm_data(data: Dict[str, pd.DataFrame]) -> MMMData:\n",
    "    dt_simulated_weekly = data[\"dt_simulated_weekly\"]\n",
    "\n",
    "    mmm_data_spec = MMMData.MMMDataSpec(\n",
    "        dep_var=\"revenue\",\n",
    "        dep_var_type=\"revenue\",\n",
    "        date_var=\"DATE\",\n",
    "        context_vars=[\"competitor_sales_B\", \"events\"],\n",
    "        paid_media_spends=[\"tv_S\", \"ooh_S\", \"print_S\", \"facebook_S\", \"search_S\"],\n",
    "        paid_media_vars=[\"tv_S\", \"ooh_S\", \"print_S\", \"facebook_I\", \"search_clicks_P\"],\n",
    "        organic_vars=[\"newsletter\"],\n",
    "        window_start=\"2016-01-01\",\n",
    "        window_end=\"2018-12-31\",\n",
    "    )\n",
    "\n",
    "    return MMMData(data=dt_simulated_weekly, mmmdata_spec=mmm_data_spec)\n",
    "\n",
    "\n",
    "mmm_data = setup_mmm_data(data)\n",
    "mmm_data.data.head()"
   ]
  },
  {
   "cell_type": "markdown",
   "id": "ea1fa54e",
   "metadata": {},
   "source": [
    "## Feature Preprocessing\n",
    "\n",
    "We will perform feature engineering to prepare the data for modeling. This includes transformations like adstock and other preprocessing steps."
   ]
  },
  {
   "cell_type": "code",
   "execution_count": null,
   "id": "0d1d1118",
   "metadata": {},
   "outputs": [],
   "source": [
    "def setup_hyperparameters() -> Hyperparameters:\n",
    "    return Hyperparameters(\n",
    "        hyperparameters={\n",
    "            \"facebook_S_alphas\": [0.5, 3],\n",
    "            \"facebook_S_gammas\": [0.3, 1],\n",
    "            \"facebook_S_thetas\": [0, 0.3],\n",
    "            \"print_S_alphas\": [0.5, 3],\n",
    "            \"print_S_gammas\": [0.3, 1],\n",
    "            \"print_S_thetas\": [0.1, 0.4],\n",
    "            \"tv_S_alphas\": [0.5, 3],\n",
    "            \"tv_S_gammas\": [0.3, 1],\n",
    "            \"tv_S_thetas\": [0.3, 0.8],\n",
    "            \"search_S_alphas\": [0.5, 3],\n",
    "            \"search_S_gammas\": [0.3, 1],\n",
    "            \"search_S_thetas\": [0, 0.3],\n",
    "            \"ooh_S_alphas\": [0.5, 3],\n",
    "            \"ooh_S_gammas\": [0.3, 1],\n",
    "            \"ooh_S_thetas\": [0.1, 0.4],\n",
    "            \"newsletter_alphas\": [0.5, 3],\n",
    "            \"newsletter_gammas\": [0.3, 1],\n",
    "            \"newsletter_thetas\": [0.1, 0.4],\n",
    "        },\n",
    "        adstock=\"geometric\",\n",
    "        lambda_=0.0,\n",
    "        train_size=[0.5, 0.8],\n",
    "    )\n",
    "\n",
    "\n",
    "# Setup Hyperparameters\n",
    "hyperparameters = setup_hyperparameters()\n",
    "print(\"Hyperparameters setup complete.\")"
   ]
  },
  {
   "cell_type": "code",
   "execution_count": null,
   "id": "948cceb8",
   "metadata": {},
   "outputs": [],
   "source": [
    "# Create HolidaysData object\n",
    "holidays_data = HolidaysData(\n",
    "    dt_holidays=data[\"dt_prophet_holidays\"],\n",
    "    prophet_vars=[\"trend\", \"season\", \"holiday\"],\n",
    "    prophet_country=\"DE\",\n",
    "    prophet_signs=[\"default\", \"default\", \"default\"],\n",
    ")\n",
    "# Setup FeaturizedMMMData\n",
    "feature_engineering = FeatureEngineering(mmm_data, hyperparameters, holidays_data)"
   ]
  },
  {
   "cell_type": "code",
   "execution_count": null,
   "id": "fbac563a",
   "metadata": {},
   "outputs": [],
   "source": [
    "featurized_mmm_data = feature_engineering.perform_feature_engineering()"
   ]
  },
  {
   "cell_type": "code",
   "execution_count": null,
   "id": "f126bd9b",
   "metadata": {},
   "outputs": [],
   "source": [
    "print(\"Shape of dt_mod:\", featurized_mmm_data.dt_mod.shape)\n",
    "featurized_mmm_data.dt_mod.head()"
   ]
  },
  {
   "cell_type": "code",
   "execution_count": null,
   "id": "1be81245",
   "metadata": {},
   "outputs": [],
   "source": [
    "from robyn.visualization.feature_visualization import FeaturePlotter\n",
    "import matplotlib.pyplot as plt\n",
    "\n",
    "# Create a FeaturePlotter instance\n",
    "feature_plotter = FeaturePlotter(mmm_data, hyperparameters)\n",
    "\n",
    "# Plot spend-exposure relationship for each channel\n",
    "for channel in mmm_data.mmmdata_spec.paid_media_spends:\n",
    "    try:\n",
    "        fig = feature_plotter.plot_spend_exposure(featurized_mmm_data, channel)\n",
    "        plt.show()\n",
    "    except ValueError as e:\n",
    "        print(f\"Skipping {channel}: {str(e)}\")"
   ]
  },
  {
   "cell_type": "code",
   "execution_count": null,
   "id": "d4f53294",
   "metadata": {},
   "outputs": [],
   "source": [
    "# Setup ModelExecutor\n",
    "model_executor = ModelExecutor(\n",
    "    mmmdata=mmm_data,\n",
    "    holidays_data=holidays_data,\n",
    "    hyperparameters=hyperparameters,\n",
    "    calibration_input=None,  # Add calibration input if available\n",
    "    featurized_mmm_data=featurized_mmm_data,\n",
    ")\n",
    "\n",
    "# Setup TrialsConfig\n",
    "trials_config = TrialsConfig(iterations=2000, trials=5)  # Set to the number of cores you want to use\n",
    "\n",
    "print(\n",
    "    f\">>> Starting {trials_config.trials} trials with {trials_config.iterations} iterations each using {NevergradAlgorithm.TWO_POINTS_DE.value} nevergrad algorithm on x cores...\"\n",
    ")\n",
    "\n",
    "# Run the model\n",
    "\n",
    "output_models = model_executor.model_run(\n",
    "    trials_config=trials_config,\n",
    "    ts_validation=True,\n",
    "    add_penalty_factor=False,\n",
    "    rssd_zero_penalty=True,\n",
    "    cores=8,\n",
    "    nevergrad_algo=NevergradAlgorithm.TWO_POINTS_DE,\n",
    "    intercept=True,\n",
    "    intercept_sign=\"non_negative\",\n",
    "    model_name=Models.RIDGE,\n",
    ")\n",
    "print(\"Model training complete.\")"
   ]
  },
  {
   "cell_type": "code",
   "execution_count": null,
   "id": "90ce7e46",
   "metadata": {},
   "outputs": [],
   "source": []
  },
  {
   "cell_type": "code",
   "execution_count": null,
   "id": "9622c195",
   "metadata": {},
   "outputs": [],
   "source": []
  }
 ],
 "metadata": {
  "kernelspec": {
   "display_name": "Python 3 (ipykernel)",
   "language": "python",
   "name": "python3"
  },
  "language_info": {
   "codemirror_mode": {
    "name": "ipython",
    "version": 3
   },
   "file_extension": ".py",
   "mimetype": "text/x-python",
   "name": "python",
   "nbconvert_exporter": "python",
   "pygments_lexer": "ipython3",
   "version": "3.9.6"
  }
 },
 "nbformat": 4,
 "nbformat_minor": 5
}
