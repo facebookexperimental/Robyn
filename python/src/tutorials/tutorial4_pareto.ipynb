{
 "cells": [
  {
   "cell_type": "code",
   "execution_count": 2,
   "metadata": {},
   "outputs": [
    {
     "name": "stderr",
     "output_type": "stream",
     "text": [
      "/Users/funny/Documents/git/Robyn/.venv/lib/python3.11/site-packages/tqdm/auto.py:21: TqdmWarning: IProgress not found. Please update jupyter and ipywidgets. See https://ipywidgets.readthedocs.io/en/stable/user_install.html\n",
      "  from .autonotebook import tqdm as notebook_tqdm\n"
     ]
    }
   ],
   "source": [
    "# Test Pareto Optimizer\n",
    "\n",
    "import pandas as pd\n",
    "import numpy as np\n",
    "from datetime import datetime, timedelta\n",
    "from robyn.data.entities.mmmdata import MMMData\n",
    "from robyn.modeling.entities.modeloutputs import ModelOutputs, Trial\n",
    "from robyn.modeling.pareto.pareto_optimizer import ParetoOptimizer\n",
    "from robyn.data.entities.enums import DependentVarType, PaidMediaSigns, OrganicSigns, ContextSigns\n",
    "\n",
    "from utils.data_mapper import import_data, load_data_from_json\n"
   ]
  },
  {
   "cell_type": "code",
   "execution_count": 3,
   "metadata": {},
   "outputs": [
    {
     "data": {
      "text/html": [
       "<div>\n",
       "<style scoped>\n",
       "    .dataframe tbody tr th:only-of-type {\n",
       "        vertical-align: middle;\n",
       "    }\n",
       "\n",
       "    .dataframe tbody tr th {\n",
       "        vertical-align: top;\n",
       "    }\n",
       "\n",
       "    .dataframe thead th {\n",
       "        text-align: right;\n",
       "    }\n",
       "</style>\n",
       "<table border=\"1\" class=\"dataframe\">\n",
       "  <thead>\n",
       "    <tr style=\"text-align: right;\">\n",
       "      <th></th>\n",
       "      <th>facebook_S_alphas</th>\n",
       "      <th>facebook_S_gammas</th>\n",
       "      <th>facebook_S_thetas</th>\n",
       "      <th>newsletter_alphas</th>\n",
       "      <th>newsletter_gammas</th>\n",
       "      <th>newsletter_thetas</th>\n",
       "      <th>ooh_S_alphas</th>\n",
       "      <th>ooh_S_gammas</th>\n",
       "      <th>ooh_S_thetas</th>\n",
       "      <th>print_S_alphas</th>\n",
       "      <th>print_S_gammas</th>\n",
       "      <th>print_S_thetas</th>\n",
       "      <th>search_S_alphas</th>\n",
       "      <th>search_S_gammas</th>\n",
       "      <th>search_S_thetas</th>\n",
       "      <th>tv_S_alphas</th>\n",
       "      <th>tv_S_gammas</th>\n",
       "      <th>tv_S_thetas</th>\n",
       "      <th>train_size</th>\n",
       "      <th>lambda</th>\n",
       "    </tr>\n",
       "  </thead>\n",
       "  <tbody>\n",
       "    <tr>\n",
       "      <th>0</th>\n",
       "      <td>0.5</td>\n",
       "      <td>0.3</td>\n",
       "      <td>0.0</td>\n",
       "      <td>0.5</td>\n",
       "      <td>0.3</td>\n",
       "      <td>0.1</td>\n",
       "      <td>0.5</td>\n",
       "      <td>0.3</td>\n",
       "      <td>0.1</td>\n",
       "      <td>0.5</td>\n",
       "      <td>0.3</td>\n",
       "      <td>0.1</td>\n",
       "      <td>0.5</td>\n",
       "      <td>0.3</td>\n",
       "      <td>0.0</td>\n",
       "      <td>0.5</td>\n",
       "      <td>0.3</td>\n",
       "      <td>0.3</td>\n",
       "      <td>0.5</td>\n",
       "      <td>0</td>\n",
       "    </tr>\n",
       "    <tr>\n",
       "      <th>1</th>\n",
       "      <td>3.0</td>\n",
       "      <td>1.0</td>\n",
       "      <td>0.3</td>\n",
       "      <td>3.0</td>\n",
       "      <td>1.0</td>\n",
       "      <td>0.4</td>\n",
       "      <td>3.0</td>\n",
       "      <td>1.0</td>\n",
       "      <td>0.4</td>\n",
       "      <td>3.0</td>\n",
       "      <td>1.0</td>\n",
       "      <td>0.4</td>\n",
       "      <td>3.0</td>\n",
       "      <td>1.0</td>\n",
       "      <td>0.3</td>\n",
       "      <td>3.0</td>\n",
       "      <td>1.0</td>\n",
       "      <td>0.8</td>\n",
       "      <td>0.8</td>\n",
       "      <td>1</td>\n",
       "    </tr>\n",
       "  </tbody>\n",
       "</table>\n",
       "</div>"
      ],
      "text/plain": [
       "   facebook_S_alphas  facebook_S_gammas  facebook_S_thetas  newsletter_alphas  \\\n",
       "0                0.5                0.3                0.0                0.5   \n",
       "1                3.0                1.0                0.3                3.0   \n",
       "\n",
       "   newsletter_gammas  newsletter_thetas  ooh_S_alphas  ooh_S_gammas  \\\n",
       "0                0.3                0.1           0.5           0.3   \n",
       "1                1.0                0.4           3.0           1.0   \n",
       "\n",
       "   ooh_S_thetas  print_S_alphas  print_S_gammas  print_S_thetas  \\\n",
       "0           0.1             0.5             0.3             0.1   \n",
       "1           0.4             3.0             1.0             0.4   \n",
       "\n",
       "   search_S_alphas  search_S_gammas  search_S_thetas  tv_S_alphas  \\\n",
       "0              0.5              0.3              0.0          0.5   \n",
       "1              3.0              1.0              0.3          3.0   \n",
       "\n",
       "   tv_S_gammas  tv_S_thetas  train_size  lambda  \n",
       "0          0.3          0.3         0.5       0  \n",
       "1          1.0          0.8         0.8       1  "
      ]
     },
     "metadata": {},
     "output_type": "display_data"
    }
   ],
   "source": [
    "# Load data from JSON\n",
    "loaded_data = load_data_from_json(\n",
    "    \"/Users/funny/Documents/git/Robyn/python/src/tutorials/resources/test_data.json\"\n",
    "    # \"/Users/funny/Downloads/exported_data.json\"\n",
    ")\n",
    "imported_data = import_data(loaded_data)\n",
    "model_outputs = imported_data[\"model_outputs\"]\n",
    "display((model_outputs.hyper_bound_ng))\n"
   ]
  },
  {
   "cell_type": "code",
   "execution_count": 4,
   "metadata": {},
   "outputs": [],
   "source": [
    "\n",
    "mmm_data = imported_data[\"mmm_data\"]\n",
    "# display(mmm_data.data.head())\n",
    "# Display Model Outputs\n",
    "\n",
    "model_outputs = imported_data[\"model_outputs\"]\n",
    "# display((model_outputs.trials[0].result_hyp_param))\n",
    "\n",
    "hyperparameters = imported_data[\"hyperparameters\"]\n",
    "# display(hyperparameters)"
   ]
  },
  {
   "cell_type": "code",
   "execution_count": 5,
   "metadata": {},
   "outputs": [
    {
     "name": "stdout",
     "output_type": "stream",
     "text": [
      ">>> Calculating response curves for all models' media variables (10080)...\n"
     ]
    }
   ],
   "source": [
    "\n",
    "# 3. Create ParetoOptimizer instance\n",
    "pareto_optimizer = ParetoOptimizer(mmm_data, model_outputs, hyperparameters)\n",
    "\n",
    "# 4. Run optimize function\n",
    "pareto_result = pareto_optimizer.optimize(pareto_fronts=\"auto\", min_candidates=3)\n"
   ]
  },
  {
   "cell_type": "code",
   "execution_count": null,
   "metadata": {},
   "outputs": [],
   "source": [
    "\n",
    "# 5. Check results\n",
    "print(\"Pareto Optimization Results:\")\n",
    "print(f\"Number of Pareto solutions: {len(pareto_result.pareto_solutions)}\")\n",
    "print(f\"Number of Pareto fronts: {pareto_result.pareto_fronts}\")\n",
    "print(\"\\nPareto-optimal solutions:\")\n",
    "print(pareto_result.result_hyp_param[['solID', 'nrmse', 'decomp.rssd', 'mape', 'robynPareto']])\n",
    "\n",
    "print(\"\\nAggregated decomposition results:\")\n",
    "print(pareto_result.x_decomp_agg.head())\n",
    "\n",
    "print(\"\\nMedia vector collection:\")\n",
    "print(pareto_result.media_vec_collect.head())\n",
    "\n",
    "print(\"\\nDecomposition vector collection:\")\n",
    "print(pareto_result.x_decomp_vec_collect.head())\n",
    "\n",
    "# 6. Validate logic\n",
    "assert len(pareto_result.pareto_solutions) > 0, \"No Pareto-optimal solutions found\"\n",
    "assert pareto_result.pareto_fronts > 0, \"Invalid number of Pareto fronts\"\n",
    "assert not pareto_result.result_hyp_param.empty, \"Empty result_hyp_param DataFrame\"\n",
    "assert not pareto_result.x_decomp_agg.empty, \"Empty x_decomp_agg DataFrame\"\n",
    "assert not pareto_result.media_vec_collect.empty, \"Empty media_vec_collect DataFrame\"\n",
    "assert not pareto_result.x_decomp_vec_collect.empty, \"Empty x_decomp_vec_collect DataFrame\"\n",
    "\n",
    "print(\"\\nAll assertions passed. The optimize function is working as expected.\")"
   ]
  }
 ],
 "metadata": {
  "kernelspec": {
   "display_name": ".venv",
   "language": "python",
   "name": "python3"
  },
  "language_info": {
   "codemirror_mode": {
    "name": "ipython",
    "version": 3
   },
   "file_extension": ".py",
   "mimetype": "text/x-python",
   "name": "python",
   "nbconvert_exporter": "python",
   "pygments_lexer": "ipython3",
   "version": "3.11.5"
  }
 },
 "nbformat": 4,
 "nbformat_minor": 2
}
