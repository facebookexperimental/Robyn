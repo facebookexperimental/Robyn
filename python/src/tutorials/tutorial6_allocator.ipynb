{
 "cells": [
  {
   "cell_type": "markdown",
   "metadata": {},
   "source": [
    "# Robyn Budget Allocator Demo\n",
    "\n",
    "This notebook demonstrates how to use the Python implementation of Robyn's budget allocator.\n",
    "It shows how to:\n",
    "1. Load and prepare data\n",
    "2. Configure the allocator\n",
    "3. Run optimization scenarios\n",
    "4. Analyze and visualize results\n",
    "\n",
    "## Step 1: Load Exported R Data"
   ]
  },
  {
   "cell_type": "code",
   "execution_count": 1,
   "metadata": {},
   "outputs": [
    {
     "name": "stderr",
     "output_type": "stream",
     "text": [
      "/Users/yijuilee/robynpy_release_reviews/robynvenv/lib/python3.9/site-packages/tqdm/auto.py:21: TqdmWarning: IProgress not found. Please update jupyter and ipywidgets. See https://ipywidgets.readthedocs.io/en/stable/user_install.html\n",
      "  from .autonotebook import tqdm as notebook_tqdm\n"
     ]
    },
    {
     "ename": "NameError",
     "evalue": "name 'Any' is not defined",
     "output_type": "error",
     "traceback": [
      "\u001b[0;31m---------------------------------------------------------------------------\u001b[0m",
      "\u001b[0;31mNameError\u001b[0m                                 Traceback (most recent call last)",
      "Cell \u001b[0;32mIn[1], line 14\u001b[0m\n\u001b[1;32m     12\u001b[0m \u001b[38;5;28;01mfrom\u001b[39;00m \u001b[38;5;21;01mrobyn\u001b[39;00m\u001b[38;5;21;01m.\u001b[39;00m\u001b[38;5;21;01mdata\u001b[39;00m\u001b[38;5;21;01m.\u001b[39;00m\u001b[38;5;21;01mentities\u001b[39;00m\u001b[38;5;21;01m.\u001b[39;00m\u001b[38;5;21;01mhyperparameters\u001b[39;00m \u001b[38;5;28;01mimport\u001b[39;00m Hyperparameters\n\u001b[1;32m     13\u001b[0m \u001b[38;5;28;01mfrom\u001b[39;00m \u001b[38;5;21;01mrobyn\u001b[39;00m\u001b[38;5;21;01m.\u001b[39;00m\u001b[38;5;21;01mallocator\u001b[39;00m\u001b[38;5;21;01m.\u001b[39;00m\u001b[38;5;21;01mentities\u001b[39;00m\u001b[38;5;21;01m.\u001b[39;00m\u001b[38;5;21;01menums\u001b[39;00m \u001b[38;5;28;01mimport\u001b[39;00m OptimizationScenario, ConstrMode\n\u001b[0;32m---> 14\u001b[0m \u001b[38;5;28;01mfrom\u001b[39;00m \u001b[38;5;21;01mrobyn\u001b[39;00m\u001b[38;5;21;01m.\u001b[39;00m\u001b[38;5;21;01mallocator\u001b[39;00m\u001b[38;5;21;01m.\u001b[39;00m\u001b[38;5;21;01mbudget_allocator\u001b[39;00m \u001b[38;5;28;01mimport\u001b[39;00m BudgetAllocator\n\u001b[1;32m     15\u001b[0m \u001b[38;5;28;01mfrom\u001b[39;00m \u001b[38;5;21;01mrobyn\u001b[39;00m\u001b[38;5;21;01m.\u001b[39;00m\u001b[38;5;21;01mmodeling\u001b[39;00m\u001b[38;5;21;01m.\u001b[39;00m\u001b[38;5;21;01mpareto\u001b[39;00m\u001b[38;5;21;01m.\u001b[39;00m\u001b[38;5;21;01mpareto_optimizer\u001b[39;00m \u001b[38;5;28;01mimport\u001b[39;00m ParetoResult\n\u001b[1;32m     16\u001b[0m \u001b[38;5;28;01mfrom\u001b[39;00m \u001b[38;5;21;01mrobyn\u001b[39;00m\u001b[38;5;21;01m.\u001b[39;00m\u001b[38;5;21;01mallocator\u001b[39;00m\u001b[38;5;21;01m.\u001b[39;00m\u001b[38;5;21;01mentities\u001b[39;00m\u001b[38;5;21;01m.\u001b[39;00m\u001b[38;5;21;01mallocation_config\u001b[39;00m \u001b[38;5;28;01mimport\u001b[39;00m AllocationConfig\n",
      "File \u001b[0;32m~/robynpy_release_reviews/Robyn/python/src/robyn/allocator/budget_allocator.py:32\u001b[0m\n\u001b[1;32m     28\u001b[0m \u001b[38;5;28;01mfrom\u001b[39;00m \u001b[38;5;21;01mrobyn\u001b[39;00m\u001b[38;5;21;01m.\u001b[39;00m\u001b[38;5;21;01mallocator\u001b[39;00m\u001b[38;5;21;01m.\u001b[39;00m\u001b[38;5;21;01mentities\u001b[39;00m\u001b[38;5;21;01m.\u001b[39;00m\u001b[38;5;21;01mallocation_results\u001b[39;00m \u001b[38;5;28;01mimport\u001b[39;00m AllocationResult\n\u001b[1;32m     29\u001b[0m \u001b[38;5;28;01mfrom\u001b[39;00m \u001b[38;5;21;01mrobyn\u001b[39;00m\u001b[38;5;21;01m.\u001b[39;00m\u001b[38;5;21;01mallocator\u001b[39;00m\u001b[38;5;21;01m.\u001b[39;00m\u001b[38;5;21;01mentities\u001b[39;00m\u001b[38;5;21;01m.\u001b[39;00m\u001b[38;5;21;01mallocation_constraints\u001b[39;00m \u001b[38;5;28;01mimport\u001b[39;00m AllocationConstraints\n\u001b[0;32m---> 32\u001b[0m \u001b[38;5;28;01mclass\u001b[39;00m \u001b[38;5;21;01mBudgetAllocator\u001b[39;00m:\n\u001b[1;32m     33\u001b[0m \u001b[38;5;250m    \u001b[39m\u001b[38;5;124;03m\"\"\"Main class for optimizing marketing budget allocations.\"\"\"\u001b[39;00m\n\u001b[1;32m     35\u001b[0m     \u001b[38;5;28;01mdef\u001b[39;00m \u001b[38;5;21m__init__\u001b[39m(\n\u001b[1;32m     36\u001b[0m         \u001b[38;5;28mself\u001b[39m,\n\u001b[1;32m     37\u001b[0m         mmm_data: MMMData,\n\u001b[0;32m   (...)\u001b[0m\n\u001b[1;32m     40\u001b[0m         select_model: \u001b[38;5;28mstr\u001b[39m,\n\u001b[1;32m     41\u001b[0m     ):\n",
      "File \u001b[0;32m~/robynpy_release_reviews/Robyn/python/src/robyn/allocator/budget_allocator.py:108\u001b[0m, in \u001b[0;36mBudgetAllocator\u001b[0;34m()\u001b[0m\n\u001b[1;32m     95\u001b[0m     n_periods \u001b[38;5;241m=\u001b[39m end_idx \u001b[38;5;241m-\u001b[39m start_idx \u001b[38;5;241m+\u001b[39m \u001b[38;5;241m1\u001b[39m\n\u001b[1;32m     97\u001b[0m     \u001b[38;5;28;01mreturn\u001b[39;00m DateRange(\n\u001b[1;32m     98\u001b[0m         start_date\u001b[38;5;241m=\u001b[39mstart_date,\n\u001b[1;32m     99\u001b[0m         end_date\u001b[38;5;241m=\u001b[39mend_date,\n\u001b[0;32m   (...)\u001b[0m\n\u001b[1;32m    103\u001b[0m         interval_type\u001b[38;5;241m=\u001b[39m\u001b[38;5;28mself\u001b[39m\u001b[38;5;241m.\u001b[39mmmm_data\u001b[38;5;241m.\u001b[39mmmmdata_spec\u001b[38;5;241m.\u001b[39mintervalType,\n\u001b[1;32m    104\u001b[0m     )\n\u001b[1;32m    106\u001b[0m \u001b[38;5;28;01mdef\u001b[39;00m \u001b[38;5;21m_calculate_initial_metrics\u001b[39m(\n\u001b[1;32m    107\u001b[0m     \u001b[38;5;28mself\u001b[39m, date_range: DateRange, media_spend_sorted: np\u001b[38;5;241m.\u001b[39mndarray, total_budget: Optional[\u001b[38;5;28mfloat\u001b[39m]\n\u001b[0;32m--> 108\u001b[0m ) \u001b[38;5;241m-\u001b[39m\u001b[38;5;241m>\u001b[39m Dict[\u001b[38;5;28mstr\u001b[39m, \u001b[43mAny\u001b[49m]:\n\u001b[1;32m    109\u001b[0m \u001b[38;5;250m    \u001b[39m\u001b[38;5;124;03m\"\"\"Calculate initial metrics for optimization.\u001b[39;00m\n\u001b[1;32m    110\u001b[0m \n\u001b[1;32m    111\u001b[0m \u001b[38;5;124;03m    Args:\u001b[39;00m\n\u001b[0;32m   (...)\u001b[0m\n\u001b[1;32m    117\u001b[0m \u001b[38;5;124;03m        Dictionary containing initial metrics including spends and responses\u001b[39;00m\n\u001b[1;32m    118\u001b[0m \u001b[38;5;124;03m    \"\"\"\u001b[39;00m\n\u001b[1;32m    119\u001b[0m     dt_mod \u001b[38;5;241m=\u001b[39m \u001b[38;5;28mself\u001b[39m\u001b[38;5;241m.\u001b[39mmmm_data\u001b[38;5;241m.\u001b[39mmmmdata_spec\u001b[38;5;241m.\u001b[39mdt_mod\n",
      "\u001b[0;31mNameError\u001b[0m: name 'Any' is not defined"
     ]
    }
   ],
   "source": [
    "import sys\n",
    "import pandas as pd\n",
    "import numpy as np\n",
    "from typing import Dict, Any\n",
    "\n",
    "# Add Robyn to path\n",
    "sys.path.append(\"/Users/yijuilee/robynpy_release_reviews/Robyn/python/src\")\n",
    "\n",
    "# Import necessary Robyn classes\n",
    "from robyn.data.entities.mmmdata import MMMData\n",
    "from robyn.modeling.entities.modeloutputs import ModelOutputs\n",
    "from robyn.data.entities.hyperparameters import Hyperparameters\n",
    "from robyn.allocator.entities.enums import OptimizationScenario, ConstrMode\n",
    "from robyn.allocator.budget_allocator import BudgetAllocator\n",
    "from robyn.modeling.pareto.pareto_optimizer import ParetoResult\n",
    "from robyn.allocator.entities.allocation_config import AllocationConfig\n",
    "from robyn.allocator.entities.allocation_constraints import AllocationConstraints\n",
    "from utils.data_mapper import load_data_from_json, import_input_collect, import_output_collect, import_output_models"
   ]
  },
  {
   "cell_type": "code",
   "execution_count": null,
   "metadata": {},
   "outputs": [],
   "source": [
    "# Load data from JSON exported from R\n",
    "raw_input_collect = load_data_from_json(\n",
    "    \"/Users/yijuilee/robynpy_release_reviews/Robyn/python/src/tutorials/data/Allocator_InputCollect.json\"\n",
    ")\n",
    "raw_output_collect = load_data_from_json(\n",
    "    \"/Users/yijuilee/robynpy_release_reviews/Robyn/python/src/tutorials/data/Allocator_OutputCollect.json\"\n",
    ")\n",
    "raw_output_models = load_data_from_json(\n",
    "    \"/Users/yijuilee/robynpy_release_reviews/Robyn/python/src/tutorials/data/Allocator_OutputModels.json\"\n",
    ")\n",
    "\n",
    "# Convert R data to Python objects\n",
    "r_input_collect = import_input_collect(raw_input_collect)\n",
    "r_output_collect = import_output_collect(raw_output_collect)\n",
    "python_model_outputs = import_output_models(raw_output_models)\n",
    "\n",
    "# Extract individual components\n",
    "mmm_data = r_input_collect[\"mmm_data\"]\n",
    "model_outputs = python_model_outputs\n",
    "hyperparameters = r_input_collect[\"hyperparameters\"]\n",
    "\n",
    "# Print data summary\n",
    "print(f\"Data loaded successfully:\")\n",
    "print(\n",
    "    f\"- Data timeframe: {mmm_data.data[mmm_data.mmmdata_spec.date_var].min()} to {mmm_data.data[mmm_data.mmmdata_spec.date_var].max()}\"\n",
    ")\n",
    "print(f\"- Number of paid media channels: {len(mmm_data.mmmdata_spec.paid_media_spends)}\")\n",
    "print(f\"- Channels: {mmm_data.mmmdata_spec.paid_media_spends}\")"
   ]
  },
  {
   "cell_type": "markdown",
   "metadata": {},
   "source": [
    "## Step 2: Set up Budget Allocator\n",
    "\n",
    "Initialize the budget allocator with the selected model and data."
   ]
  },
  {
   "cell_type": "code",
   "execution_count": null,
   "metadata": {},
   "outputs": [],
   "source": [
    "# # Print some debugging information\n",
    "# print(f\"Model ID: {select_model}\")\n",
    "# print(\"\\nAvailable models in result_hyp_param:\")\n",
    "# print(r_output_collect[\"pareto_result\"].result_hyp_param[\"solID\"].unique())\n",
    "# print(\"\\nColumns in result_hyp_param:\")\n",
    "# print(r_output_collect[\"pareto_result\"].result_hyp_param.columns)"
   ]
  },
  {
   "cell_type": "code",
   "execution_count": null,
   "metadata": {},
   "outputs": [],
   "source": [
    "# Select model ID from available solutions\n",
    "select_model = \"1_208_4\"  # This should match one of your model IDs\n",
    "\n",
    "# Initialize budget allocator\n",
    "allocator = BudgetAllocator(\n",
    "    mmm_data=mmm_data,\n",
    "    model_outputs=model_outputs,\n",
    "    pareto_result=r_output_collect[\"pareto_result\"],  # Get ParetoResult from import_output_collect()\n",
    "    select_model=select_model,\n",
    ")"
   ]
  },
  {
   "cell_type": "markdown",
   "metadata": {},
   "source": [
    "## Step 3: Configure Allocation Settings\n",
    "\n",
    "Set up constraints and parameters for optimization."
   ]
  },
  {
   "cell_type": "code",
   "execution_count": null,
   "metadata": {},
   "outputs": [],
   "source": [
    "# Create channel constraints\n",
    "channel_constraints = AllocationConstraints(\n",
    "    channel_constr_low={channel: 0.7 for channel in mmm_data.mmmdata_spec.paid_media_spends},\n",
    "    channel_constr_up={channel: 1.2 for channel in mmm_data.mmmdata_spec.paid_media_spends},\n",
    "    channel_constr_multiplier=3.0,\n",
    ")\n",
    "\n",
    "# Create allocation configuration for max response scenario\n",
    "max_response_config = AllocationConfig(\n",
    "    scenario=OptimizationScenario.MAX_RESPONSE,\n",
    "    constraints=channel_constraints,\n",
    "    date_range=\"last\",  # Use last period as initial\n",
    "    total_budget=None,  # Use historical budget\n",
    "    maxeval=100000,\n",
    "    optim_algo=\"SLSQP_AUGLAG\",\n",
    "    constr_mode=ConstrMode.EQUALITY,\n",
    "    plots=True,\n",
    ")"
   ]
  },
  {
   "cell_type": "markdown",
   "metadata": {},
   "source": [
    "## Step 4: Run Optimization Scenarios\n",
    "\n",
    "### Scenario 1: Maximize Response\n",
    "Find optimal allocation to maximize response while keeping total budget constant."
   ]
  },
  {
   "cell_type": "code",
   "execution_count": null,
   "metadata": {},
   "outputs": [],
   "source": [
    "# Run max response optimization\n",
    "max_response_result = allocator.allocate(max_response_config)\n",
    "\n",
    "# Print optimization results\n",
    "print(\"\\nMax Response Optimization Results:\")\n",
    "print(max_response_result.summary)\n",
    "\n",
    "# Display optimal allocations\n",
    "print(\"\\nOptimal Channel Allocations:\")\n",
    "print(max_response_result.optimal_allocations)"
   ]
  },
  {
   "cell_type": "markdown",
   "metadata": {},
   "source": [
    "### Scenario 2: Target Efficiency\n",
    "Optimize allocation based on target ROI/CPA."
   ]
  },
  {
   "cell_type": "code",
   "execution_count": null,
   "metadata": {},
   "outputs": [],
   "source": [
    "# Create configuration for target efficiency scenario\n",
    "target_efficiency_config = AllocationConfig(\n",
    "    scenario=OptimizationScenario.TARGET_EFFICIENCY,\n",
    "    constraints=channel_constraints,\n",
    "    date_range=\"last\",\n",
    "    target_value=None,  # Will use default 80% of initial ROAS or 120% of initial CPA\n",
    "    maxeval=100000,\n",
    "    optim_algo=\"SLSQP_AUGLAG\",\n",
    "    constr_mode=ConstrMode.EQUALITY,\n",
    "    plots=True,\n",
    ")\n",
    "\n",
    "# Run target efficiency optimization\n",
    "target_efficiency_result = allocator.allocate(target_efficiency_config)\n",
    "\n",
    "# Print optimization results\n",
    "print(\"\\nTarget Efficiency Optimization Results:\")\n",
    "print(target_efficiency_result.summary)\n",
    "\n",
    "# Display optimal allocations\n",
    "print(\"\\nOptimal Channel Allocations:\")\n",
    "print(target_efficiency_result.optimal_allocations)"
   ]
  },
  {
   "cell_type": "markdown",
   "metadata": {},
   "source": [
    "## Step 5: Analyze Results\n",
    "\n",
    "Compare and analyze the results from different scenarios."
   ]
  },
  {
   "cell_type": "code",
   "execution_count": null,
   "metadata": {},
   "outputs": [],
   "source": [
    "def compare_scenarios(max_response_result, target_efficiency_result):\n",
    "    \"\"\"Compare results from different optimization scenarios.\"\"\"\n",
    "\n",
    "    comparison = pd.DataFrame(\n",
    "        {\n",
    "            \"Max Response\": max_response_result.optimal_allocations[\"optimal_spend\"],\n",
    "            \"Target Efficiency\": target_efficiency_result.optimal_allocations[\"optimal_spend\"],\n",
    "        }\n",
    "    )\n",
    "\n",
    "    comparison[\"Difference\"] = comparison[\"Max Response\"] - comparison[\"Target Efficiency\"]\n",
    "    comparison[\"Difference %\"] = (comparison[\"Difference\"] / comparison[\"Max Response\"]) * 100\n",
    "\n",
    "    return comparison\n",
    "\n",
    "\n",
    "# Generate comparison\n",
    "scenario_comparison = compare_scenarios(max_response_result, target_efficiency_result)\n",
    "print(\"\\nScenario Comparison:\")\n",
    "print(scenario_comparison)"
   ]
  },
  {
   "cell_type": "markdown",
   "metadata": {},
   "source": [
    "## Step 6: Visualize Results\n",
    "\n",
    "Plot the optimization results and response curves."
   ]
  },
  {
   "cell_type": "code",
   "execution_count": null,
   "metadata": {},
   "outputs": [],
   "source": [
    "# Plot functions would be implemented here to visualize:\n",
    "# - Response curves for each channel\n",
    "# - Current vs optimized allocation comparison\n",
    "# - ROI/CPA comparison\n",
    "# - Total response comparison"
   ]
  },
  {
   "cell_type": "code",
   "execution_count": null,
   "metadata": {},
   "outputs": [],
   "source": []
  }
 ],
 "metadata": {
  "kernelspec": {
   "display_name": ".venv",
   "language": "python",
   "name": "python3"
  },
  "language_info": {
   "codemirror_mode": {
    "name": "ipython",
    "version": 3
   },
   "file_extension": ".py",
   "mimetype": "text/x-python",
   "name": "python",
   "nbconvert_exporter": "python",
   "pygments_lexer": "ipython3",
   "version": "3.9.6"
  }
 },
 "nbformat": 4,
 "nbformat_minor": 2
}
