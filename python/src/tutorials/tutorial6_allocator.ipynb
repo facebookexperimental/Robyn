{
 "cells": [
  {
   "cell_type": "markdown",
   "metadata": {},
   "source": [
    "# Robyn Budget Allocator Demo\n",
    "\n",
    "This notebook demonstrates how to use the Python implementation of Robyn's budget allocator.\n",
    "It shows how to:\n",
    "1. Load and prepare data\n",
    "2. Configure the allocator\n",
    "3. Run optimization scenarios\n",
    "4. Analyze and visualize results\n",
    "\n",
    "## Step 1: Load Exported R Data"
   ]
  },
  {
   "cell_type": "code",
   "execution_count": 1,
   "metadata": {},
   "outputs": [
    {
     "name": "stderr",
     "output_type": "stream",
     "text": [
      "/Users/yijuilee/robynpy_release_reviews/robynvenv/lib/python3.9/site-packages/tqdm/auto.py:21: TqdmWarning: IProgress not found. Please update jupyter and ipywidgets. See https://ipywidgets.readthedocs.io/en/stable/user_install.html\n",
      "  from .autonotebook import tqdm as notebook_tqdm\n"
     ]
    }
   ],
   "source": [
    "import sys\n",
    "import pandas as pd\n",
    "import numpy as np\n",
    "from typing import Dict, Any\n",
    "\n",
    "# Add Robyn to path\n",
    "sys.path.append(\"/Users/yijuilee/robynpy_release_reviews/Robyn/python/src\")\n",
    "\n",
    "# Import necessary Robyn classes\n",
    "from robyn.data.entities.mmmdata import MMMData\n",
    "from robyn.modeling.entities.modeloutputs import ModelOutputs\n",
    "from robyn.data.entities.hyperparameters import Hyperparameters\n",
    "from robyn.allocator.entities.enums import OptimizationScenario, ConstrMode\n",
    "from robyn.allocator.budget_allocator import BudgetAllocator\n",
    "from robyn.modeling.pareto.pareto_optimizer import ParetoResult\n",
    "from robyn.allocator.entities.allocation_config import AllocationConfig\n",
    "from robyn.allocator.entities.allocation_constraints import AllocationConstraints\n",
    "from utils.data_mapper import load_data_from_json, import_input_collect, import_output_collect, import_output_models"
   ]
  },
  {
   "cell_type": "code",
   "execution_count": 2,
   "metadata": {},
   "outputs": [
    {
     "name": "stdout",
     "output_type": "stream",
     "text": [
      "Warning: Error converting plot data for 2_197_8: Mixing dicts with non-Series may lead to ambiguous ordering.\n",
      "Warning: Error converting plot data for 2_207_8: Mixing dicts with non-Series may lead to ambiguous ordering.\n",
      "Warning: Error converting plot data for 2_221_2: Mixing dicts with non-Series may lead to ambiguous ordering.\n",
      "Warning: Error converting plot data for 3_75_4: Mixing dicts with non-Series may lead to ambiguous ordering.\n",
      "Warning: Error converting plot data for 3_138_7: Mixing dicts with non-Series may lead to ambiguous ordering.\n",
      "Warning: Error converting plot data for 2_218_2: Mixing dicts with non-Series may lead to ambiguous ordering.\n",
      "Warning: Error converting plot data for 2_221_5: Mixing dicts with non-Series may lead to ambiguous ordering.\n",
      "Warning: Error converting plot data for 3_214_7: Mixing dicts with non-Series may lead to ambiguous ordering.\n",
      "Warning: Error converting plot data for 5_109_5: Mixing dicts with non-Series may lead to ambiguous ordering.\n",
      "Warning: Error converting plot data for 2_178_6: Mixing dicts with non-Series may lead to ambiguous ordering.\n",
      "Warning: Error converting plot data for 2_201_6: Mixing dicts with non-Series may lead to ambiguous ordering.\n",
      "Warning: Error converting plot data for 2_208_2: Mixing dicts with non-Series may lead to ambiguous ordering.\n",
      "Warning: Error converting plot data for 3_74_4: Mixing dicts with non-Series may lead to ambiguous ordering.\n",
      "Warning: Error converting plot data for 3_78_7: Mixing dicts with non-Series may lead to ambiguous ordering.\n",
      "Warning: Error converting plot data for 3_85_4: Mixing dicts with non-Series may lead to ambiguous ordering.\n",
      "Warning: Error converting plot data for 3_95_4: Mixing dicts with non-Series may lead to ambiguous ordering.\n",
      "Warning: Error converting plot data for 3_104_4: Mixing dicts with non-Series may lead to ambiguous ordering.\n",
      "Warning: Error converting plot data for 3_108_7: Mixing dicts with non-Series may lead to ambiguous ordering.\n",
      "Warning: Error converting plot data for 3_144_4: Mixing dicts with non-Series may lead to ambiguous ordering.\n",
      "Warning: Error converting plot data for 3_204_9: Mixing dicts with non-Series may lead to ambiguous ordering.\n",
      "Warning: Error converting plot data for 2_97_3: Mixing dicts with non-Series may lead to ambiguous ordering.\n",
      "Warning: Error converting plot data for 2_204_9: Mixing dicts with non-Series may lead to ambiguous ordering.\n",
      "Warning: Error converting plot data for 2_214_8: Mixing dicts with non-Series may lead to ambiguous ordering.\n",
      "Warning: Error converting plot data for 2_218_4: Mixing dicts with non-Series may lead to ambiguous ordering.\n",
      "Warning: Error converting plot data for 3_77_7: Mixing dicts with non-Series may lead to ambiguous ordering.\n",
      "Warning: Error converting plot data for 3_98_7: Mixing dicts with non-Series may lead to ambiguous ordering.\n",
      "Warning: Error converting plot data for 3_127_7: Mixing dicts with non-Series may lead to ambiguous ordering.\n",
      "Warning: Error converting plot data for 3_131_1: Mixing dicts with non-Series may lead to ambiguous ordering.\n",
      "Warning: Error converting plot data for 3_158_7: Mixing dicts with non-Series may lead to ambiguous ordering.\n",
      "Warning: Error converting plot data for 3_162_1: Mixing dicts with non-Series may lead to ambiguous ordering.\n",
      "Warning: Error converting plot data for 3_168_7: Mixing dicts with non-Series may lead to ambiguous ordering.\n",
      "Warning: Error converting plot data for 3_211_6: Mixing dicts with non-Series may lead to ambiguous ordering.\n",
      "Warning: Error converting plot data for 3_218_3: Mixing dicts with non-Series may lead to ambiguous ordering.\n",
      "Warning: Error converting plot data for 3_221_2: Mixing dicts with non-Series may lead to ambiguous ordering.\n",
      "Warning: Error converting plot data for 5_80_5: Mixing dicts with non-Series may lead to ambiguous ordering.\n",
      "Warning: Error converting plot data for 2_144_8: Mixing dicts with non-Series may lead to ambiguous ordering.\n",
      "Warning: Error converting plot data for 2_198_9: Mixing dicts with non-Series may lead to ambiguous ordering.\n",
      "Warning: Error converting plot data for 2_218_3: Mixing dicts with non-Series may lead to ambiguous ordering.\n",
      "Warning: Error converting plot data for 2_221_6: Mixing dicts with non-Series may lead to ambiguous ordering.\n",
      "Warning: Error converting plot data for 3_114_4: Mixing dicts with non-Series may lead to ambiguous ordering.\n",
      "Warning: Error converting plot data for 3_115_4: Mixing dicts with non-Series may lead to ambiguous ordering.\n",
      "Warning: Error converting plot data for 3_133_6: Mixing dicts with non-Series may lead to ambiguous ordering.\n",
      "Warning: Error converting plot data for 3_197_8: Mixing dicts with non-Series may lead to ambiguous ordering.\n",
      "Warning: Error converting plot data for 3_201_2: Mixing dicts with non-Series may lead to ambiguous ordering.\n",
      "Warning: Error converting plot data for 3_216_9: Mixing dicts with non-Series may lead to ambiguous ordering.\n",
      "Warning: Error converting plot data for 2_87_4: Mixing dicts with non-Series may lead to ambiguous ordering.\n",
      "Warning: Error converting plot data for 2_198_3: Mixing dicts with non-Series may lead to ambiguous ordering.\n",
      "Warning: Error converting plot data for 2_208_9: Mixing dicts with non-Series may lead to ambiguous ordering.\n",
      "Warning: Error converting plot data for 2_220_1: Mixing dicts with non-Series may lead to ambiguous ordering.\n",
      "Warning: Error converting plot data for 3_81_1: Mixing dicts with non-Series may lead to ambiguous ordering.\n",
      "Warning: Error converting plot data for 3_91_1: Mixing dicts with non-Series may lead to ambiguous ordering.\n",
      "Warning: Error converting plot data for 3_102_1: Mixing dicts with non-Series may lead to ambiguous ordering.\n",
      "Warning: Error converting plot data for 3_107_7: Mixing dicts with non-Series may lead to ambiguous ordering.\n",
      "Warning: Error converting plot data for 3_147_7: Mixing dicts with non-Series may lead to ambiguous ordering.\n",
      "Warning: Error converting plot data for 3_197_5: Mixing dicts with non-Series may lead to ambiguous ordering.\n",
      "Warning: Error converting plot data for 3_208_3: Mixing dicts with non-Series may lead to ambiguous ordering.\n",
      "Warning: Error converting plot data for 1_217_2: Mixing dicts with non-Series may lead to ambiguous ordering.\n",
      "Warning: Error converting plot data for 2_85_3: Mixing dicts with non-Series may lead to ambiguous ordering.\n",
      "Warning: Error converting plot data for 2_215_9: Mixing dicts with non-Series may lead to ambiguous ordering.\n",
      "Warning: Error converting plot data for 2_217_6: Mixing dicts with non-Series may lead to ambiguous ordering.\n",
      "Warning: Error converting plot data for 3_66_5: Mixing dicts with non-Series may lead to ambiguous ordering.\n",
      "Warning: Error converting plot data for 3_71_1: Mixing dicts with non-Series may lead to ambiguous ordering.\n",
      "Warning: Error converting plot data for 3_210_4: Mixing dicts with non-Series may lead to ambiguous ordering.\n",
      "Warning: Error converting plot data for 3_214_9: Mixing dicts with non-Series may lead to ambiguous ordering.\n",
      "Warning: Error converting plot data for 3_219_3: Mixing dicts with non-Series may lead to ambiguous ordering.\n",
      "Warning: Error converting plot data for 5_117_1: Mixing dicts with non-Series may lead to ambiguous ordering.\n",
      "Warning: Error converting plot data for 5_193_3: Mixing dicts with non-Series may lead to ambiguous ordering.\n",
      "Warning: Error converting plot data for 5_196_6: Mixing dicts with non-Series may lead to ambiguous ordering.\n",
      "Warning: Error converting plot data for 1_150_3: Mixing dicts with non-Series may lead to ambiguous ordering.\n",
      "Warning: Error converting plot data for 1_166_9: Mixing dicts with non-Series may lead to ambiguous ordering.\n",
      "Warning: Error converting plot data for 1_208_4: Mixing dicts with non-Series may lead to ambiguous ordering.\n",
      "Warning: Error converting plot data for 2_95_3: Mixing dicts with non-Series may lead to ambiguous ordering.\n",
      "Warning: Error converting plot data for 2_101_9: Mixing dicts with non-Series may lead to ambiguous ordering.\n",
      "Warning: Error converting plot data for 2_170_8: Mixing dicts with non-Series may lead to ambiguous ordering.\n",
      "Warning: Error converting plot data for 3_109_9: Mixing dicts with non-Series may lead to ambiguous ordering.\n",
      "Warning: Error converting plot data for 3_123_1: Mixing dicts with non-Series may lead to ambiguous ordering.\n",
      "Warning: Error converting plot data for 3_221_6: Mixing dicts with non-Series may lead to ambiguous ordering.\n",
      "Warning: Error converting plot data for 4_105_5: Mixing dicts with non-Series may lead to ambiguous ordering.\n",
      "Warning: Error converting plot data for 4_108_8: Mixing dicts with non-Series may lead to ambiguous ordering.\n",
      "Warning: Error converting plot data for 5_220_8: Mixing dicts with non-Series may lead to ambiguous ordering.\n",
      "Warning: Error converting plot data for 1_156_9: Mixing dicts with non-Series may lead to ambiguous ordering.\n",
      "Warning: Error converting plot data for 2_100_6: Mixing dicts with non-Series may lead to ambiguous ordering.\n",
      "Warning: Error converting plot data for 3_91_7: Mixing dicts with non-Series may lead to ambiguous ordering.\n",
      "Warning: Error converting plot data for 3_186_4: Mixing dicts with non-Series may lead to ambiguous ordering.\n",
      "Warning: Error converting plot data for 3_194_5: Mixing dicts with non-Series may lead to ambiguous ordering.\n",
      "Warning: Error converting plot data for 3_196_4: Mixing dicts with non-Series may lead to ambiguous ordering.\n",
      "Warning: Error converting plot data for 3_200_1: Mixing dicts with non-Series may lead to ambiguous ordering.\n",
      "Warning: Error converting plot data for 4_98_8: Mixing dicts with non-Series may lead to ambiguous ordering.\n",
      "Warning: Error converting plot data for 5_211_9: Mixing dicts with non-Series may lead to ambiguous ordering.\n",
      "Warning: Error converting plot data for 5_222_1: Mixing dicts with non-Series may lead to ambiguous ordering.\n",
      "Warning: Error converting plot data for 1_65_6: Mixing dicts with non-Series may lead to ambiguous ordering.\n",
      "Warning: Error converting plot data for 1_160_3: Mixing dicts with non-Series may lead to ambiguous ordering.\n",
      "Warning: Error converting plot data for 2_93_9: Mixing dicts with non-Series may lead to ambiguous ordering.\n",
      "Warning: Error converting plot data for 3_78_9: Mixing dicts with non-Series may lead to ambiguous ordering.\n",
      "Warning: Error converting plot data for 3_82_3: Mixing dicts with non-Series may lead to ambiguous ordering.\n",
      "Warning: Error converting plot data for 3_171_1: Mixing dicts with non-Series may lead to ambiguous ordering.\n",
      "Warning: Error converting plot data for 3_174_4: Mixing dicts with non-Series may lead to ambiguous ordering.\n",
      "Warning: Error converting plot data for 3_189_7: Mixing dicts with non-Series may lead to ambiguous ordering.\n",
      "Warning: Error converting plot data for 3_204_5: Mixing dicts with non-Series may lead to ambiguous ordering.\n",
      "Warning: Error converting plot data for 4_129_2: Mixing dicts with non-Series may lead to ambiguous ordering.\n",
      "Warning: Error converting plot data for 5_221_5: Mixing dicts with non-Series may lead to ambiguous ordering.\n",
      "Warning: Error converting plot data for 5_221_9: Mixing dicts with non-Series may lead to ambiguous ordering.\n",
      "Data loaded successfully:\n",
      "- Data timeframe: DATE    2015-11-23\n",
      "dtype: object to DATE    2019-11-11\n",
      "dtype: object\n",
      "- Number of paid media channels: 5\n",
      "- Channels: ['tv_S', 'ooh_S', 'print_S', 'facebook_S', 'search_S']\n"
     ]
    }
   ],
   "source": [
    "# Load data from JSON exported from R\n",
    "raw_input_collect = load_data_from_json(\n",
    "    \"/Users/yijuilee/robynpy_release_reviews/Robyn/python/src/tutorials/data/Allocator_InputCollect.json\"\n",
    ")\n",
    "raw_output_collect = load_data_from_json(\n",
    "    \"/Users/yijuilee/robynpy_release_reviews/Robyn/python/src/tutorials/data/Allocator_OutputCollect.json\"\n",
    ")\n",
    "raw_output_models = load_data_from_json(\n",
    "    \"/Users/yijuilee/robynpy_release_reviews/Robyn/python/src/tutorials/data/Allocator_OutputModels.json\"\n",
    ")\n",
    "\n",
    "# Convert R data to Python objects\n",
    "r_input_collect = import_input_collect(raw_input_collect)\n",
    "r_output_collect = import_output_collect(raw_output_collect)\n",
    "python_model_outputs = import_output_models(raw_output_models)\n",
    "\n",
    "# Extract individual components\n",
    "mmm_data = r_input_collect[\"mmm_data\"]\n",
    "featurized_mmm_data = r_input_collect[\"featurized_mmm_data\"]\n",
    "holidays_data = r_input_collect[\"holidays_data\"]\n",
    "model_outputs = python_model_outputs\n",
    "hyperparameters = r_input_collect[\"hyperparameters\"]\n",
    "\n",
    "# Print data summary\n",
    "print(f\"Data loaded successfully:\")\n",
    "print(\n",
    "    f\"- Data timeframe: {mmm_data.data[mmm_data.mmmdata_spec.date_var].min()} to {mmm_data.data[mmm_data.mmmdata_spec.date_var].max()}\"\n",
    ")\n",
    "print(f\"- Number of paid media channels: {len(mmm_data.mmmdata_spec.paid_media_spends)}\")\n",
    "print(f\"- Channels: {mmm_data.mmmdata_spec.paid_media_spends}\")"
   ]
  },
  {
   "cell_type": "markdown",
   "metadata": {},
   "source": [
    "## Step 2: Set up Budget Allocator\n",
    "\n",
    "Initialize the budget allocator with the selected model and data."
   ]
  },
  {
   "cell_type": "code",
   "execution_count": 3,
   "metadata": {},
   "outputs": [],
   "source": [
    "# # Print some debugging information\n",
    "# print(f\"Model ID: {select_model}\")\n",
    "# print(\"\\nAvailable models in result_hyp_param:\")\n",
    "# print(r_output_collect[\"pareto_result\"].result_hyp_param[\"solID\"].unique())\n",
    "# print(\"\\nColumns in result_hyp_param:\")\n",
    "# print(r_output_collect[\"pareto_result\"].result_hyp_param.columns)"
   ]
  },
  {
   "cell_type": "code",
   "execution_count": 4,
   "metadata": {},
   "outputs": [],
   "source": [
    "# Select model ID from available solutions\n",
    "select_model = \"1_208_4\"  # This should match one of your model IDs\n",
    "\n",
    "# Initialize budget allocator\n",
    "allocator = BudgetAllocator(\n",
    "    mmm_data=mmm_data,\n",
    "    featurized_mmm_data=featurized_mmm_data,\n",
    "    model_outputs=model_outputs,\n",
    "    pareto_result=r_output_collect[\"pareto_result\"],  # Get ParetoResult from import_output_collect()\n",
    "    select_model=select_model,\n",
    ")"
   ]
  },
  {
   "cell_type": "markdown",
   "metadata": {},
   "source": [
    "## Step 3: Configure Allocation Settings\n",
    "\n",
    "Set up constraints and parameters for optimization."
   ]
  },
  {
   "cell_type": "code",
   "execution_count": 5,
   "metadata": {},
   "outputs": [],
   "source": [
    "# Create channel constraints\n",
    "channel_constraints = AllocationConstraints(\n",
    "    channel_constr_low={channel: 0.7 for channel in mmm_data.mmmdata_spec.paid_media_spends},\n",
    "    channel_constr_up={channel: 1.2 for channel in mmm_data.mmmdata_spec.paid_media_spends},\n",
    "    channel_constr_multiplier=3.0,\n",
    ")\n",
    "\n",
    "# Create allocation configuration for max response scenario\n",
    "max_response_config = AllocationConfig(\n",
    "    scenario=OptimizationScenario.MAX_RESPONSE,\n",
    "    constraints=channel_constraints,\n",
    "    date_range=\"last\",  # Use last period as initial\n",
    "    total_budget=None,  # Use historical budget\n",
    "    maxeval=100000,\n",
    "    optim_algo=\"SLSQP_AUGLAG\",\n",
    "    constr_mode=ConstrMode.EQUALITY,\n",
    "    plots=True,\n",
    ")"
   ]
  },
  {
   "cell_type": "markdown",
   "metadata": {},
   "source": [
    "## Step 4: Run Optimization Scenarios\n",
    "\n",
    "### Scenario 1: Maximize Response\n",
    "Find optimal allocation to maximize response while keeping total budget constant."
   ]
  },
  {
   "cell_type": "code",
   "execution_count": 6,
   "metadata": {},
   "outputs": [
    {
     "name": "stdout",
     "output_type": "stream",
     "text": [
      "Error during allocation: to assemble mappings requires at least that [year, month, day] be specified: [day,month,year] is missing\n"
     ]
    },
    {
     "ename": "ValueError",
     "evalue": "to assemble mappings requires at least that [year, month, day] be specified: [day,month,year] is missing",
     "output_type": "error",
     "traceback": [
      "\u001b[0;31m---------------------------------------------------------------------------\u001b[0m",
      "\u001b[0;31mValueError\u001b[0m                                Traceback (most recent call last)",
      "Cell \u001b[0;32mIn[6], line 2\u001b[0m\n\u001b[1;32m      1\u001b[0m \u001b[38;5;66;03m# Run max response optimization\u001b[39;00m\n\u001b[0;32m----> 2\u001b[0m max_response_result \u001b[38;5;241m=\u001b[39m \u001b[43mallocator\u001b[49m\u001b[38;5;241;43m.\u001b[39;49m\u001b[43mallocate\u001b[49m\u001b[43m(\u001b[49m\u001b[43mmax_response_config\u001b[49m\u001b[43m)\u001b[49m\n\u001b[1;32m      4\u001b[0m \u001b[38;5;66;03m# Print optimization results\u001b[39;00m\n\u001b[1;32m      5\u001b[0m \u001b[38;5;28mprint\u001b[39m(\u001b[38;5;124m\"\u001b[39m\u001b[38;5;130;01m\\n\u001b[39;00m\u001b[38;5;124mMax Response Optimization Results:\u001b[39m\u001b[38;5;124m\"\u001b[39m)\n",
      "File \u001b[0;32m~/robynpy_release_reviews/Robyn/python/src/robyn/allocator/budget_allocator.py:460\u001b[0m, in \u001b[0;36mBudgetAllocator.allocate\u001b[0;34m(self, config)\u001b[0m\n\u001b[1;32m    450\u001b[0m \u001b[38;5;250m\u001b[39m\u001b[38;5;124;03m\"\"\"Run budget allocation optimization.\u001b[39;00m\n\u001b[1;32m    451\u001b[0m \n\u001b[1;32m    452\u001b[0m \u001b[38;5;124;03mArgs:\u001b[39;00m\n\u001b[0;32m   (...)\u001b[0m\n\u001b[1;32m    456\u001b[0m \u001b[38;5;124;03m    AllocationResult containing optimization results\u001b[39;00m\n\u001b[1;32m    457\u001b[0m \u001b[38;5;124;03m\"\"\"\u001b[39;00m\n\u001b[1;32m    458\u001b[0m \u001b[38;5;28;01mtry\u001b[39;00m:\n\u001b[1;32m    459\u001b[0m     \u001b[38;5;66;03m# Get date range\u001b[39;00m\n\u001b[0;32m--> 460\u001b[0m     date_range \u001b[38;5;241m=\u001b[39m \u001b[38;5;28;43mself\u001b[39;49m\u001b[38;5;241;43m.\u001b[39;49m\u001b[43m_process_date_range\u001b[49m\u001b[43m(\u001b[49m\u001b[43mconfig\u001b[49m\u001b[38;5;241;43m.\u001b[39;49m\u001b[43mdate_range\u001b[49m\u001b[43m)\u001b[49m\n\u001b[1;32m    462\u001b[0m     \u001b[38;5;66;03m# Get sorted media spends\u001b[39;00m\n\u001b[1;32m    463\u001b[0m     media_spend_sorted \u001b[38;5;241m=\u001b[39m np\u001b[38;5;241m.\u001b[39marray(\u001b[38;5;28mself\u001b[39m\u001b[38;5;241m.\u001b[39mmmm_data\u001b[38;5;241m.\u001b[39mmmmdata_spec\u001b[38;5;241m.\u001b[39mpaid_media_spends)\n",
      "File \u001b[0;32m~/robynpy_release_reviews/Robyn/python/src/robyn/allocator/budget_allocator.py:64\u001b[0m, in \u001b[0;36mBudgetAllocator._process_date_range\u001b[0;34m(self, date_range)\u001b[0m\n\u001b[1;32m     62\u001b[0m \u001b[38;5;250m\u001b[39m\u001b[38;5;124;03m\"\"\"Process and validate date range for allocation calculations.\"\"\"\u001b[39;00m\n\u001b[1;32m     63\u001b[0m \u001b[38;5;66;03m# Get data directly from mmm_data instead of featurized_mmm_data\u001b[39;00m\n\u001b[0;32m---> 64\u001b[0m dates \u001b[38;5;241m=\u001b[39m \u001b[43mpd\u001b[49m\u001b[38;5;241;43m.\u001b[39;49m\u001b[43mto_datetime\u001b[49m\u001b[43m(\u001b[49m\u001b[38;5;28;43mself\u001b[39;49m\u001b[38;5;241;43m.\u001b[39;49m\u001b[43mmmm_data\u001b[49m\u001b[38;5;241;43m.\u001b[39;49m\u001b[43mdata\u001b[49m\u001b[43m[\u001b[49m\u001b[38;5;28;43mself\u001b[39;49m\u001b[38;5;241;43m.\u001b[39;49m\u001b[43mmmm_data\u001b[49m\u001b[38;5;241;43m.\u001b[39;49m\u001b[43mmmmdata_spec\u001b[49m\u001b[38;5;241;43m.\u001b[39;49m\u001b[43mdate_var\u001b[49m\u001b[43m]\u001b[49m\u001b[43m)\u001b[49m\n\u001b[1;32m     66\u001b[0m \u001b[38;5;28;01mif\u001b[39;00m \u001b[38;5;28misinstance\u001b[39m(date_range, \u001b[38;5;28mstr\u001b[39m):\n\u001b[1;32m     67\u001b[0m     \u001b[38;5;28;01mif\u001b[39;00m date_range \u001b[38;5;241m==\u001b[39m \u001b[38;5;124m\"\u001b[39m\u001b[38;5;124mall\u001b[39m\u001b[38;5;124m\"\u001b[39m:\n",
      "File \u001b[0;32m~/robynpy_release_reviews/robynvenv/lib/python3.9/site-packages/pandas/core/tools/datetimes.py:1070\u001b[0m, in \u001b[0;36mto_datetime\u001b[0;34m(arg, errors, dayfirst, yearfirst, utc, format, exact, unit, infer_datetime_format, origin, cache)\u001b[0m\n\u001b[1;32m   1068\u001b[0m         result \u001b[38;5;241m=\u001b[39m arg\u001b[38;5;241m.\u001b[39m_constructor(values, index\u001b[38;5;241m=\u001b[39marg\u001b[38;5;241m.\u001b[39mindex, name\u001b[38;5;241m=\u001b[39marg\u001b[38;5;241m.\u001b[39mname)\n\u001b[1;32m   1069\u001b[0m \u001b[38;5;28;01melif\u001b[39;00m \u001b[38;5;28misinstance\u001b[39m(arg, (ABCDataFrame, abc\u001b[38;5;241m.\u001b[39mMutableMapping)):\n\u001b[0;32m-> 1070\u001b[0m     result \u001b[38;5;241m=\u001b[39m \u001b[43m_assemble_from_unit_mappings\u001b[49m\u001b[43m(\u001b[49m\u001b[43marg\u001b[49m\u001b[43m,\u001b[49m\u001b[43m \u001b[49m\u001b[43merrors\u001b[49m\u001b[43m,\u001b[49m\u001b[43m \u001b[49m\u001b[43mutc\u001b[49m\u001b[43m)\u001b[49m\n\u001b[1;32m   1071\u001b[0m \u001b[38;5;28;01melif\u001b[39;00m \u001b[38;5;28misinstance\u001b[39m(arg, Index):\n\u001b[1;32m   1072\u001b[0m     cache_array \u001b[38;5;241m=\u001b[39m _maybe_cache(arg, \u001b[38;5;28mformat\u001b[39m, cache, convert_listlike)\n",
      "File \u001b[0;32m~/robynpy_release_reviews/robynvenv/lib/python3.9/site-packages/pandas/core/tools/datetimes.py:1186\u001b[0m, in \u001b[0;36m_assemble_from_unit_mappings\u001b[0;34m(arg, errors, utc)\u001b[0m\n\u001b[1;32m   1184\u001b[0m \u001b[38;5;28;01mif\u001b[39;00m \u001b[38;5;28mlen\u001b[39m(req):\n\u001b[1;32m   1185\u001b[0m     _required \u001b[38;5;241m=\u001b[39m \u001b[38;5;124m\"\u001b[39m\u001b[38;5;124m,\u001b[39m\u001b[38;5;124m\"\u001b[39m\u001b[38;5;241m.\u001b[39mjoin(req)\n\u001b[0;32m-> 1186\u001b[0m     \u001b[38;5;28;01mraise\u001b[39;00m \u001b[38;5;167;01mValueError\u001b[39;00m(\n\u001b[1;32m   1187\u001b[0m         \u001b[38;5;124m\"\u001b[39m\u001b[38;5;124mto assemble mappings requires at least that \u001b[39m\u001b[38;5;124m\"\u001b[39m\n\u001b[1;32m   1188\u001b[0m         \u001b[38;5;124mf\u001b[39m\u001b[38;5;124m\"\u001b[39m\u001b[38;5;124m[year, month, day] be specified: [\u001b[39m\u001b[38;5;132;01m{\u001b[39;00m_required\u001b[38;5;132;01m}\u001b[39;00m\u001b[38;5;124m] is missing\u001b[39m\u001b[38;5;124m\"\u001b[39m\n\u001b[1;32m   1189\u001b[0m     )\n\u001b[1;32m   1191\u001b[0m \u001b[38;5;66;03m# keys we don't recognize\u001b[39;00m\n\u001b[1;32m   1192\u001b[0m excess \u001b[38;5;241m=\u001b[39m \u001b[38;5;28msorted\u001b[39m(\u001b[38;5;28mset\u001b[39m(unit_rev\u001b[38;5;241m.\u001b[39mkeys()) \u001b[38;5;241m-\u001b[39m \u001b[38;5;28mset\u001b[39m(_unit_map\u001b[38;5;241m.\u001b[39mvalues()))\n",
      "\u001b[0;31mValueError\u001b[0m: to assemble mappings requires at least that [year, month, day] be specified: [day,month,year] is missing"
     ]
    }
   ],
   "source": [
    "# Run max response optimization\n",
    "max_response_result = allocator.allocate(max_response_config)\n",
    "\n",
    "# Print optimization results\n",
    "print(\"\\nMax Response Optimization Results:\")\n",
    "print(max_response_result.summary)\n",
    "\n",
    "# Display optimal allocations\n",
    "print(\"\\nOptimal Channel Allocations:\")\n",
    "print(max_response_result.optimal_allocations)"
   ]
  },
  {
   "cell_type": "markdown",
   "metadata": {},
   "source": [
    "### Scenario 2: Target Efficiency\n",
    "Optimize allocation based on target ROI/CPA."
   ]
  },
  {
   "cell_type": "code",
   "execution_count": null,
   "metadata": {},
   "outputs": [],
   "source": [
    "# Create configuration for target efficiency scenario\n",
    "target_efficiency_config = AllocationConfig(\n",
    "    scenario=OptimizationScenario.TARGET_EFFICIENCY,\n",
    "    constraints=channel_constraints,\n",
    "    date_range=\"last\",\n",
    "    target_value=None,  # Will use default 80% of initial ROAS or 120% of initial CPA\n",
    "    maxeval=100000,\n",
    "    optim_algo=\"SLSQP_AUGLAG\",\n",
    "    constr_mode=ConstrMode.EQUALITY,\n",
    "    plots=True,\n",
    ")\n",
    "\n",
    "# Run target efficiency optimization\n",
    "target_efficiency_result = allocator.allocate(target_efficiency_config)\n",
    "\n",
    "# Print optimization results\n",
    "print(\"\\nTarget Efficiency Optimization Results:\")\n",
    "print(target_efficiency_result.summary)\n",
    "\n",
    "# Display optimal allocations\n",
    "print(\"\\nOptimal Channel Allocations:\")\n",
    "print(target_efficiency_result.optimal_allocations)"
   ]
  },
  {
   "cell_type": "markdown",
   "metadata": {},
   "source": [
    "## Step 5: Analyze Results\n",
    "\n",
    "Compare and analyze the results from different scenarios."
   ]
  },
  {
   "cell_type": "code",
   "execution_count": null,
   "metadata": {},
   "outputs": [],
   "source": [
    "def compare_scenarios(max_response_result, target_efficiency_result):\n",
    "    \"\"\"Compare results from different optimization scenarios.\"\"\"\n",
    "\n",
    "    comparison = pd.DataFrame(\n",
    "        {\n",
    "            \"Max Response\": max_response_result.optimal_allocations[\"optimal_spend\"],\n",
    "            \"Target Efficiency\": target_efficiency_result.optimal_allocations[\"optimal_spend\"],\n",
    "        }\n",
    "    )\n",
    "\n",
    "    comparison[\"Difference\"] = comparison[\"Max Response\"] - comparison[\"Target Efficiency\"]\n",
    "    comparison[\"Difference %\"] = (comparison[\"Difference\"] / comparison[\"Max Response\"]) * 100\n",
    "\n",
    "    return comparison\n",
    "\n",
    "\n",
    "# Generate comparison\n",
    "scenario_comparison = compare_scenarios(max_response_result, target_efficiency_result)\n",
    "print(\"\\nScenario Comparison:\")\n",
    "print(scenario_comparison)"
   ]
  },
  {
   "cell_type": "markdown",
   "metadata": {},
   "source": [
    "## Step 6: Visualize Results\n",
    "\n",
    "Plot the optimization results and response curves."
   ]
  },
  {
   "cell_type": "code",
   "execution_count": null,
   "metadata": {},
   "outputs": [],
   "source": [
    "# Plot functions would be implemented here to visualize:\n",
    "# - Response curves for each channel\n",
    "# - Current vs optimized allocation comparison\n",
    "# - ROI/CPA comparison\n",
    "# - Total response comparison"
   ]
  },
  {
   "cell_type": "code",
   "execution_count": null,
   "metadata": {},
   "outputs": [],
   "source": []
  }
 ],
 "metadata": {
  "kernelspec": {
   "display_name": ".venv",
   "language": "python",
   "name": "python3"
  },
  "language_info": {
   "codemirror_mode": {
    "name": "ipython",
    "version": 3
   },
   "file_extension": ".py",
   "mimetype": "text/x-python",
   "name": "python",
   "nbconvert_exporter": "python",
   "pygments_lexer": "ipython3",
   "version": "3.9.6"
  }
 },
 "nbformat": 4,
 "nbformat_minor": 2
}
